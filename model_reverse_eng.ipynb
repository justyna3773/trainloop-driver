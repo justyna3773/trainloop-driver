{
 "cells": [
  {
   "cell_type": "code",
   "execution_count": 3,
   "metadata": {},
   "outputs": [
    {
     "name": "stdout",
     "output_type": "stream",
     "text": [
      "{'algo': 'PPO', 'policy_class': 'ActorCriticCnnPolicy', 'n_steps': 256, 'batch_size': 64, 'n_epochs': 10, 'gamma': 0.99, 'gae_lambda': 0.95, 'ent_coef': 0.0, 'vf_coef': 0.5, 'max_grad_norm': 0.5, 'target_kl': None, 'learning_rate': 0.0003, 'clip_range': 0.2, 'clip_range_vf': None, 'policy_kwargs': {}, 'num_timesteps_trained': 10240, 'sb3_version': 'unknown'}\n",
      "features_extractor: NatureCNN\n",
      "fe_kwargs: {}\n",
      "obs_space: Box([[[0. 0. 0. 0. 0. 0. 0.]\n",
      "  [0. 0. 0. 0. 0. 0. 0.]\n",
      "  [0. 0. 0. 0. 0. 0. 0.]\n",
      "  [0. 0. 0. 0. 0. 0. 0.]\n",
      "  [0. 0. 0. 0. 0. 0. 0.]\n",
      "  [0. 0. 0. 0. 0. 0. 0.]\n",
      "  [0. 0. 0. 0. 0. 0. 0.]\n",
      "  [0. 0. 0. 0. 0. 0. 0.]\n",
      "  [0. 0. 0. 0. 0. 0. 0.]\n",
      "  [0. 0. 0. 0. 0. 0. 0.]\n",
      "  [0. 0. 0. 0. 0. 0. 0.]\n",
      "  [0. 0. 0. 0. 0. 0. 0.]\n",
      "  [0. 0. 0. 0. 0. 0. 0.]\n",
      "  [0. 0. 0. 0. 0. 0. 0.]\n",
      "  [0. 0. 0. 0. 0. 0. 0.]]], [[[1. 1. 1. 1. 1. 1. 1.]\n",
      "  [1. 1. 1. 1. 1. 1. 1.]\n",
      "  [1. 1. 1. 1. 1. 1. 1.]\n",
      "  [1. 1. 1. 1. 1. 1. 1.]\n",
      "  [1. 1. 1. 1. 1. 1. 1.]\n",
      "  [1. 1. 1. 1. 1. 1. 1.]\n",
      "  [1. 1. 1. 1. 1. 1. 1.]\n",
      "  [1. 1. 1. 1. 1. 1. 1.]\n",
      "  [1. 1. 1. 1. 1. 1. 1.]\n",
      "  [1. 1. 1. 1. 1. 1. 1.]\n",
      "  [1. 1. 1. 1. 1. 1. 1.]\n",
      "  [1. 1. 1. 1. 1. 1. 1.]\n",
      "  [1. 1. 1. 1. 1. 1. 1.]\n",
      "  [1. 1. 1. 1. 1. 1. 1.]\n",
      "  [1. 1. 1. 1. 1. 1. 1.]]], (1, 15, 7), float32)\n",
      "act_space: Discrete(7)\n"
     ]
    }
   ],
   "source": [
    "#from sb3_contrib import RecurrentPPO\n",
    "from stable_baselines3 import PPO\n",
    "#model = PPO.load(\"path/to/model.zip\", device=\"cpu\")  # env not needed to inspect\n",
    "model = PPO.load(r'C:\\Users\\ultramarine\\Desktop\\ppo_magisterka\\trainloop_driver_official\\trainloop_driver_final\\trainloop-driver\\best_model\\ppo\\CnnPolicy\\best_model 2.zip')\n",
    "# Core hyperparameters\n",
    "cfg = {\n",
    "    \"algo\": \"PPO\",\n",
    "    \"policy_class\": type(model.policy).__name__,\n",
    "    \"n_steps\": model.n_steps,\n",
    "    \"batch_size\": model.batch_size,\n",
    "    \"n_epochs\": model.n_epochs,\n",
    "    \"gamma\": model.gamma,\n",
    "    \"gae_lambda\": model.gae_lambda,\n",
    "    \"ent_coef\": model.ent_coef,\n",
    "    \"vf_coef\": model.vf_coef,\n",
    "    \"max_grad_norm\": model.max_grad_norm,\n",
    "    \"target_kl\": model.target_kl,\n",
    "    # learning rate / clip can be constants or schedules:\n",
    "    \"learning_rate\": (model.lr_schedule(1.0) if callable(model.lr_schedule) else model.learning_rate),\n",
    "    \"clip_range\": (model.clip_range(1.0) if callable(model.clip_range) else model.clip_range),\n",
    "    \"clip_range_vf\": (model.clip_range_vf(1.0) if callable(model.clip_range_vf) else model.clip_range_vf),\n",
    "    # architecture & extractor config used to build the policy:\n",
    "    \"policy_kwargs\": model.policy_kwargs,\n",
    "    # bookkeeping:\n",
    "    \"num_timesteps_trained\": model.num_timesteps,\n",
    "    \"sb3_version\": getattr(model, \"_sb3_version\", \"unknown\"),\n",
    "}\n",
    "\n",
    "print(cfg)\n",
    "\n",
    "# If you used a custom features extractor, you can see it too:\n",
    "print(\"features_extractor:\", type(model.policy.features_extractor).__name__)\n",
    "print(\"fe_kwargs:\", model.policy_kwargs.get(\"features_extractor_kwargs\", {}))\n",
    "\n",
    "# Observation/action spaces saved with the model (helpful for sanity):\n",
    "print(\"obs_space:\", model.observation_space)\n",
    "print(\"act_space:\", model.action_space)"
   ]
  }
 ],
 "metadata": {
  "kernelspec": {
   "display_name": "trainloop_py37",
   "language": "python",
   "name": "python3"
  },
  "language_info": {
   "codemirror_mode": {
    "name": "ipython",
    "version": 3
   },
   "file_extension": ".py",
   "mimetype": "text/x-python",
   "name": "python",
   "nbconvert_exporter": "python",
   "pygments_lexer": "ipython3",
   "version": "3.7.16"
  }
 },
 "nbformat": 4,
 "nbformat_minor": 2
}
