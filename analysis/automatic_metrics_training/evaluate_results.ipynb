{
 "cells": [
  {
   "cell_type": "code",
   "execution_count": 9,
   "metadata": {},
   "outputs": [],
   "source": [
    "BASE_PATH = '../../models/evaluation'\n"
   ]
  },
  {
   "cell_type": "code",
   "execution_count": 10,
   "metadata": {},
   "outputs": [],
   "source": [
    "algorithms = ['Attention', 'CnnPolicy', 'PCA', 'PPO', 'Sparse_autoencoder', 'Sparse_autoencoder_temporal_spatial']\n"
   ]
  },
  {
   "cell_type": "code",
   "execution_count": 12,
   "metadata": {},
   "outputs": [
    {
     "data": {
      "application/vnd.plotly.v1+json": {
       "config": {
        "plotlyServerURL": "https://plot.ly"
       },
       "data": [
        {
         "legendgroup": "Attention",
         "line": {
          "color": "#636EFA",
          "width": 2
         },
         "marker": {
          "size": 6
         },
         "mode": "lines+markers",
         "name": "Attention",
         "showlegend": true,
         "type": "scatter",
         "x": [
          0,
          1,
          2,
          3,
          4,
          5,
          6,
          7,
          8,
          9
         ],
         "xaxis": "x",
         "y": [
          -18.61427651,
          -3.8011945639999998,
          -3.758493319,
          -3.7482003269999997,
          -3.744349658,
          -3.7425703560000003,
          -3.988471657,
          -3.7031158210000004,
          -3.7073624880000002,
          -3.7107499839999996
         ],
         "yaxis": "y"
        },
        {
         "legendgroup": "Attention",
         "line": {
          "color": "#636EFA",
          "dash": "dot",
          "width": 2
         },
         "marker": {
          "size": 6,
          "symbol": "square"
         },
         "mode": "lines+markers",
         "name": "Attention",
         "showlegend": false,
         "type": "scatter",
         "x": [
          0,
          1,
          2,
          3,
          4,
          5,
          6,
          7,
          8,
          9
         ],
         "xaxis": "x2",
         "y": [
          15,
          15,
          15,
          15,
          15,
          15,
          16,
          15,
          15,
          15
         ],
         "yaxis": "y2"
        },
        {
         "legendgroup": "CnnPolicy",
         "line": {
          "color": "#EF553B",
          "width": 2
         },
         "marker": {
          "size": 6
         },
         "mode": "lines+markers",
         "name": "CnnPolicy",
         "showlegend": false,
         "type": "scatter",
         "x": [
          0,
          1,
          2,
          3,
          4,
          5,
          6,
          7,
          8,
          9
         ],
         "xaxis": "x",
         "y": [
          -18.61427651,
          -3.8011945639999998,
          -3.758493319,
          -3.9932384489999997,
          -3.679943487,
          -3.69029288,
          -3.697635591,
          -3.7031158210000004,
          -3.7073624880000002,
          -3.7107499839999996
         ],
         "yaxis": "y"
        },
        {
         "legendgroup": "CnnPolicy",
         "line": {
          "color": "#EF553B",
          "dash": "dot",
          "width": 2
         },
         "marker": {
          "size": 6,
          "symbol": "square"
         },
         "mode": "lines+markers",
         "name": "CnnPolicy",
         "showlegend": false,
         "type": "scatter",
         "x": [
          0,
          1,
          2,
          3,
          4,
          5,
          6,
          7,
          8,
          9
         ],
         "xaxis": "x2",
         "y": [
          15,
          15,
          15,
          16,
          15,
          15,
          15,
          15,
          15,
          15
         ],
         "yaxis": "y2"
        },
        {
         "legendgroup": "PCA",
         "line": {
          "color": "#00CC96",
          "width": 2
         },
         "marker": {
          "size": 6
         },
         "mode": "lines+markers",
         "name": "PCA",
         "showlegend": false,
         "type": "scatter",
         "x": [
          0,
          1,
          2,
          3,
          4,
          5,
          6,
          7,
          8,
          9
         ],
         "xaxis": "x",
         "y": [
          -18.61427651,
          -3.8011945639999998,
          -3.758493319,
          -4.466906413,
          -3.516295046,
          -3.55256784,
          -3.578735739,
          -3.598509595,
          -3.6139799060000004,
          -5.032878727
         ],
         "yaxis": "y"
        },
        {
         "legendgroup": "PCA",
         "line": {
          "color": "#00CC96",
          "dash": "dot",
          "width": 2
         },
         "marker": {
          "size": 6,
          "symbol": "square"
         },
         "mode": "lines+markers",
         "name": "PCA",
         "showlegend": false,
         "type": "scatter",
         "x": [
          0,
          1,
          2,
          3,
          4,
          5,
          6,
          7,
          8,
          9
         ],
         "xaxis": "x2",
         "y": [
          15,
          15,
          15,
          18,
          15,
          15,
          15,
          15,
          15,
          21
         ],
         "yaxis": "y2"
        },
        {
         "legendgroup": "PPO",
         "line": {
          "color": "#AB63FA",
          "width": 2
         },
         "marker": {
          "size": 6
         },
         "mode": "lines+markers",
         "name": "PPO",
         "showlegend": false,
         "type": "scatter",
         "x": [
          0,
          1,
          2,
          3,
          4,
          5,
          6,
          7,
          8,
          9
         ],
         "xaxis": "x",
         "y": [
          -18.61427651,
          -3.8011945639999998,
          -3.758493319,
          -3.7482003269999997,
          -3.9902122319999997,
          -3.69029288,
          -3.697635591,
          -3.7031158210000004,
          -3.7073624880000002,
          -3.7107499839999996
         ],
         "yaxis": "y"
        },
        {
         "legendgroup": "PPO",
         "line": {
          "color": "#AB63FA",
          "dash": "dot",
          "width": 2
         },
         "marker": {
          "size": 6,
          "symbol": "square"
         },
         "mode": "lines+markers",
         "name": "PPO",
         "showlegend": false,
         "type": "scatter",
         "x": [
          0,
          1,
          2,
          3,
          4,
          5,
          6,
          7,
          8,
          9
         ],
         "xaxis": "x2",
         "y": [
          15,
          15,
          15,
          15,
          16,
          15,
          15,
          15,
          15,
          15
         ],
         "yaxis": "y2"
        },
        {
         "legendgroup": "Sparse_autoencoder",
         "line": {
          "color": "#FFA15A",
          "width": 2
         },
         "marker": {
          "size": 6
         },
         "mode": "lines+markers",
         "name": "Sparse_autoencoder",
         "showlegend": false,
         "type": "scatter",
         "x": [
          0,
          1,
          2,
          3,
          4,
          5,
          6,
          7,
          8,
          9
         ],
         "xaxis": "x",
         "y": [
          -18.61427651,
          -3.8011945639999998,
          -3.758493319,
          -3.7482003269999997,
          -3.744349658,
          -3.7425703560000003,
          -3.7416396439999997,
          -3.7411123660000003,
          -3.74079743,
          -3.7406025830000003
         ],
         "yaxis": "y"
        },
        {
         "legendgroup": "Sparse_autoencoder",
         "line": {
          "color": "#FFA15A",
          "dash": "dot",
          "width": 2
         },
         "marker": {
          "size": 6,
          "symbol": "square"
         },
         "mode": "lines+markers",
         "name": "Sparse_autoencoder",
         "showlegend": false,
         "type": "scatter",
         "x": [
          0,
          1,
          2,
          3,
          4,
          5,
          6,
          7,
          8,
          9
         ],
         "xaxis": "x2",
         "y": [
          15,
          15,
          15,
          15,
          15,
          15,
          15,
          15,
          15,
          15
         ],
         "yaxis": "y2"
        },
        {
         "legendgroup": "Sparse_autoencoder_temporal_spatial",
         "line": {
          "color": "#19D3F3",
          "width": 2
         },
         "marker": {
          "size": 6
         },
         "mode": "lines+markers",
         "name": "Sparse_autoencoder_temporal_spatial",
         "showlegend": false,
         "type": "scatter",
         "x": [
          0,
          1,
          2,
          3,
          4,
          5,
          6,
          7,
          8,
          9
         ],
         "xaxis": "x",
         "y": [
          -16.40119818,
          -3.701014251,
          -3.655383825,
          -3.643958151,
          -3.6395007969999997,
          -3.6373424830000003,
          -3.6361522969999998,
          -3.6354361180000003,
          -3.63497749,
          -3.6346695419999997
         ],
         "yaxis": "y"
        },
        {
         "legendgroup": "Sparse_autoencoder_temporal_spatial",
         "line": {
          "color": "#19D3F3",
          "dash": "dot",
          "width": 2
         },
         "marker": {
          "size": 6,
          "symbol": "square"
         },
         "mode": "lines+markers",
         "name": "Sparse_autoencoder_temporal_spatial",
         "showlegend": false,
         "type": "scatter",
         "x": [
          0,
          1,
          2,
          3,
          4,
          5,
          6,
          7,
          8,
          9
         ],
         "xaxis": "x2",
         "y": [
          8,
          8,
          8,
          8,
          8,
          8,
          8,
          8,
          8,
          8
         ],
         "yaxis": "y2"
        }
       ],
       "layout": {
        "annotations": [
         {
          "font": {
           "size": 16
          },
          "showarrow": false,
          "text": "Reward Comparison",
          "x": 0.5,
          "xanchor": "center",
          "xref": "paper",
          "y": 1,
          "yanchor": "bottom",
          "yref": "paper"
         },
         {
          "font": {
           "size": 16
          },
          "showarrow": false,
          "text": "Episode Length Comparison",
          "x": 0.5,
          "xanchor": "center",
          "xref": "paper",
          "y": 0.45,
          "yanchor": "bottom",
          "yref": "paper"
         }
        ],
        "height": 800,
        "hovermode": "x unified",
        "legend": {
         "orientation": "h",
         "x": 1,
         "xanchor": "right",
         "y": 1.02,
         "yanchor": "bottom"
        },
        "template": {
         "data": {
          "bar": [
           {
            "error_x": {
             "color": "#2a3f5f"
            },
            "error_y": {
             "color": "#2a3f5f"
            },
            "marker": {
             "line": {
              "color": "white",
              "width": 0.5
             },
             "pattern": {
              "fillmode": "overlay",
              "size": 10,
              "solidity": 0.2
             }
            },
            "type": "bar"
           }
          ],
          "barpolar": [
           {
            "marker": {
             "line": {
              "color": "white",
              "width": 0.5
             },
             "pattern": {
              "fillmode": "overlay",
              "size": 10,
              "solidity": 0.2
             }
            },
            "type": "barpolar"
           }
          ],
          "carpet": [
           {
            "aaxis": {
             "endlinecolor": "#2a3f5f",
             "gridcolor": "#C8D4E3",
             "linecolor": "#C8D4E3",
             "minorgridcolor": "#C8D4E3",
             "startlinecolor": "#2a3f5f"
            },
            "baxis": {
             "endlinecolor": "#2a3f5f",
             "gridcolor": "#C8D4E3",
             "linecolor": "#C8D4E3",
             "minorgridcolor": "#C8D4E3",
             "startlinecolor": "#2a3f5f"
            },
            "type": "carpet"
           }
          ],
          "choropleth": [
           {
            "colorbar": {
             "outlinewidth": 0,
             "ticks": ""
            },
            "type": "choropleth"
           }
          ],
          "contour": [
           {
            "colorbar": {
             "outlinewidth": 0,
             "ticks": ""
            },
            "colorscale": [
             [
              0,
              "#0d0887"
             ],
             [
              0.1111111111111111,
              "#46039f"
             ],
             [
              0.2222222222222222,
              "#7201a8"
             ],
             [
              0.3333333333333333,
              "#9c179e"
             ],
             [
              0.4444444444444444,
              "#bd3786"
             ],
             [
              0.5555555555555556,
              "#d8576b"
             ],
             [
              0.6666666666666666,
              "#ed7953"
             ],
             [
              0.7777777777777778,
              "#fb9f3a"
             ],
             [
              0.8888888888888888,
              "#fdca26"
             ],
             [
              1,
              "#f0f921"
             ]
            ],
            "type": "contour"
           }
          ],
          "contourcarpet": [
           {
            "colorbar": {
             "outlinewidth": 0,
             "ticks": ""
            },
            "type": "contourcarpet"
           }
          ],
          "heatmap": [
           {
            "colorbar": {
             "outlinewidth": 0,
             "ticks": ""
            },
            "colorscale": [
             [
              0,
              "#0d0887"
             ],
             [
              0.1111111111111111,
              "#46039f"
             ],
             [
              0.2222222222222222,
              "#7201a8"
             ],
             [
              0.3333333333333333,
              "#9c179e"
             ],
             [
              0.4444444444444444,
              "#bd3786"
             ],
             [
              0.5555555555555556,
              "#d8576b"
             ],
             [
              0.6666666666666666,
              "#ed7953"
             ],
             [
              0.7777777777777778,
              "#fb9f3a"
             ],
             [
              0.8888888888888888,
              "#fdca26"
             ],
             [
              1,
              "#f0f921"
             ]
            ],
            "type": "heatmap"
           }
          ],
          "heatmapgl": [
           {
            "colorbar": {
             "outlinewidth": 0,
             "ticks": ""
            },
            "colorscale": [
             [
              0,
              "#0d0887"
             ],
             [
              0.1111111111111111,
              "#46039f"
             ],
             [
              0.2222222222222222,
              "#7201a8"
             ],
             [
              0.3333333333333333,
              "#9c179e"
             ],
             [
              0.4444444444444444,
              "#bd3786"
             ],
             [
              0.5555555555555556,
              "#d8576b"
             ],
             [
              0.6666666666666666,
              "#ed7953"
             ],
             [
              0.7777777777777778,
              "#fb9f3a"
             ],
             [
              0.8888888888888888,
              "#fdca26"
             ],
             [
              1,
              "#f0f921"
             ]
            ],
            "type": "heatmapgl"
           }
          ],
          "histogram": [
           {
            "marker": {
             "pattern": {
              "fillmode": "overlay",
              "size": 10,
              "solidity": 0.2
             }
            },
            "type": "histogram"
           }
          ],
          "histogram2d": [
           {
            "colorbar": {
             "outlinewidth": 0,
             "ticks": ""
            },
            "colorscale": [
             [
              0,
              "#0d0887"
             ],
             [
              0.1111111111111111,
              "#46039f"
             ],
             [
              0.2222222222222222,
              "#7201a8"
             ],
             [
              0.3333333333333333,
              "#9c179e"
             ],
             [
              0.4444444444444444,
              "#bd3786"
             ],
             [
              0.5555555555555556,
              "#d8576b"
             ],
             [
              0.6666666666666666,
              "#ed7953"
             ],
             [
              0.7777777777777778,
              "#fb9f3a"
             ],
             [
              0.8888888888888888,
              "#fdca26"
             ],
             [
              1,
              "#f0f921"
             ]
            ],
            "type": "histogram2d"
           }
          ],
          "histogram2dcontour": [
           {
            "colorbar": {
             "outlinewidth": 0,
             "ticks": ""
            },
            "colorscale": [
             [
              0,
              "#0d0887"
             ],
             [
              0.1111111111111111,
              "#46039f"
             ],
             [
              0.2222222222222222,
              "#7201a8"
             ],
             [
              0.3333333333333333,
              "#9c179e"
             ],
             [
              0.4444444444444444,
              "#bd3786"
             ],
             [
              0.5555555555555556,
              "#d8576b"
             ],
             [
              0.6666666666666666,
              "#ed7953"
             ],
             [
              0.7777777777777778,
              "#fb9f3a"
             ],
             [
              0.8888888888888888,
              "#fdca26"
             ],
             [
              1,
              "#f0f921"
             ]
            ],
            "type": "histogram2dcontour"
           }
          ],
          "mesh3d": [
           {
            "colorbar": {
             "outlinewidth": 0,
             "ticks": ""
            },
            "type": "mesh3d"
           }
          ],
          "parcoords": [
           {
            "line": {
             "colorbar": {
              "outlinewidth": 0,
              "ticks": ""
             }
            },
            "type": "parcoords"
           }
          ],
          "pie": [
           {
            "automargin": true,
            "type": "pie"
           }
          ],
          "scatter": [
           {
            "fillpattern": {
             "fillmode": "overlay",
             "size": 10,
             "solidity": 0.2
            },
            "type": "scatter"
           }
          ],
          "scatter3d": [
           {
            "line": {
             "colorbar": {
              "outlinewidth": 0,
              "ticks": ""
             }
            },
            "marker": {
             "colorbar": {
              "outlinewidth": 0,
              "ticks": ""
             }
            },
            "type": "scatter3d"
           }
          ],
          "scattercarpet": [
           {
            "marker": {
             "colorbar": {
              "outlinewidth": 0,
              "ticks": ""
             }
            },
            "type": "scattercarpet"
           }
          ],
          "scattergeo": [
           {
            "marker": {
             "colorbar": {
              "outlinewidth": 0,
              "ticks": ""
             }
            },
            "type": "scattergeo"
           }
          ],
          "scattergl": [
           {
            "marker": {
             "colorbar": {
              "outlinewidth": 0,
              "ticks": ""
             }
            },
            "type": "scattergl"
           }
          ],
          "scattermapbox": [
           {
            "marker": {
             "colorbar": {
              "outlinewidth": 0,
              "ticks": ""
             }
            },
            "type": "scattermapbox"
           }
          ],
          "scatterpolar": [
           {
            "marker": {
             "colorbar": {
              "outlinewidth": 0,
              "ticks": ""
             }
            },
            "type": "scatterpolar"
           }
          ],
          "scatterpolargl": [
           {
            "marker": {
             "colorbar": {
              "outlinewidth": 0,
              "ticks": ""
             }
            },
            "type": "scatterpolargl"
           }
          ],
          "scatterternary": [
           {
            "marker": {
             "colorbar": {
              "outlinewidth": 0,
              "ticks": ""
             }
            },
            "type": "scatterternary"
           }
          ],
          "surface": [
           {
            "colorbar": {
             "outlinewidth": 0,
             "ticks": ""
            },
            "colorscale": [
             [
              0,
              "#0d0887"
             ],
             [
              0.1111111111111111,
              "#46039f"
             ],
             [
              0.2222222222222222,
              "#7201a8"
             ],
             [
              0.3333333333333333,
              "#9c179e"
             ],
             [
              0.4444444444444444,
              "#bd3786"
             ],
             [
              0.5555555555555556,
              "#d8576b"
             ],
             [
              0.6666666666666666,
              "#ed7953"
             ],
             [
              0.7777777777777778,
              "#fb9f3a"
             ],
             [
              0.8888888888888888,
              "#fdca26"
             ],
             [
              1,
              "#f0f921"
             ]
            ],
            "type": "surface"
           }
          ],
          "table": [
           {
            "cells": {
             "fill": {
              "color": "#EBF0F8"
             },
             "line": {
              "color": "white"
             }
            },
            "header": {
             "fill": {
              "color": "#C8D4E3"
             },
             "line": {
              "color": "white"
             }
            },
            "type": "table"
           }
          ]
         },
         "layout": {
          "annotationdefaults": {
           "arrowcolor": "#2a3f5f",
           "arrowhead": 0,
           "arrowwidth": 1
          },
          "autotypenumbers": "strict",
          "coloraxis": {
           "colorbar": {
            "outlinewidth": 0,
            "ticks": ""
           }
          },
          "colorscale": {
           "diverging": [
            [
             0,
             "#8e0152"
            ],
            [
             0.1,
             "#c51b7d"
            ],
            [
             0.2,
             "#de77ae"
            ],
            [
             0.3,
             "#f1b6da"
            ],
            [
             0.4,
             "#fde0ef"
            ],
            [
             0.5,
             "#f7f7f7"
            ],
            [
             0.6,
             "#e6f5d0"
            ],
            [
             0.7,
             "#b8e186"
            ],
            [
             0.8,
             "#7fbc41"
            ],
            [
             0.9,
             "#4d9221"
            ],
            [
             1,
             "#276419"
            ]
           ],
           "sequential": [
            [
             0,
             "#0d0887"
            ],
            [
             0.1111111111111111,
             "#46039f"
            ],
            [
             0.2222222222222222,
             "#7201a8"
            ],
            [
             0.3333333333333333,
             "#9c179e"
            ],
            [
             0.4444444444444444,
             "#bd3786"
            ],
            [
             0.5555555555555556,
             "#d8576b"
            ],
            [
             0.6666666666666666,
             "#ed7953"
            ],
            [
             0.7777777777777778,
             "#fb9f3a"
            ],
            [
             0.8888888888888888,
             "#fdca26"
            ],
            [
             1,
             "#f0f921"
            ]
           ],
           "sequentialminus": [
            [
             0,
             "#0d0887"
            ],
            [
             0.1111111111111111,
             "#46039f"
            ],
            [
             0.2222222222222222,
             "#7201a8"
            ],
            [
             0.3333333333333333,
             "#9c179e"
            ],
            [
             0.4444444444444444,
             "#bd3786"
            ],
            [
             0.5555555555555556,
             "#d8576b"
            ],
            [
             0.6666666666666666,
             "#ed7953"
            ],
            [
             0.7777777777777778,
             "#fb9f3a"
            ],
            [
             0.8888888888888888,
             "#fdca26"
            ],
            [
             1,
             "#f0f921"
            ]
           ]
          },
          "colorway": [
           "#636efa",
           "#EF553B",
           "#00cc96",
           "#ab63fa",
           "#FFA15A",
           "#19d3f3",
           "#FF6692",
           "#B6E880",
           "#FF97FF",
           "#FECB52"
          ],
          "font": {
           "color": "#2a3f5f"
          },
          "geo": {
           "bgcolor": "white",
           "lakecolor": "white",
           "landcolor": "white",
           "showlakes": true,
           "showland": true,
           "subunitcolor": "#C8D4E3"
          },
          "hoverlabel": {
           "align": "left"
          },
          "hovermode": "closest",
          "mapbox": {
           "style": "light"
          },
          "paper_bgcolor": "white",
          "plot_bgcolor": "white",
          "polar": {
           "angularaxis": {
            "gridcolor": "#EBF0F8",
            "linecolor": "#EBF0F8",
            "ticks": ""
           },
           "bgcolor": "white",
           "radialaxis": {
            "gridcolor": "#EBF0F8",
            "linecolor": "#EBF0F8",
            "ticks": ""
           }
          },
          "scene": {
           "xaxis": {
            "backgroundcolor": "white",
            "gridcolor": "#DFE8F3",
            "gridwidth": 2,
            "linecolor": "#EBF0F8",
            "showbackground": true,
            "ticks": "",
            "zerolinecolor": "#EBF0F8"
           },
           "yaxis": {
            "backgroundcolor": "white",
            "gridcolor": "#DFE8F3",
            "gridwidth": 2,
            "linecolor": "#EBF0F8",
            "showbackground": true,
            "ticks": "",
            "zerolinecolor": "#EBF0F8"
           },
           "zaxis": {
            "backgroundcolor": "white",
            "gridcolor": "#DFE8F3",
            "gridwidth": 2,
            "linecolor": "#EBF0F8",
            "showbackground": true,
            "ticks": "",
            "zerolinecolor": "#EBF0F8"
           }
          },
          "shapedefaults": {
           "line": {
            "color": "#2a3f5f"
           }
          },
          "ternary": {
           "aaxis": {
            "gridcolor": "#DFE8F3",
            "linecolor": "#A2B1C6",
            "ticks": ""
           },
           "baxis": {
            "gridcolor": "#DFE8F3",
            "linecolor": "#A2B1C6",
            "ticks": ""
           },
           "bgcolor": "white",
           "caxis": {
            "gridcolor": "#DFE8F3",
            "linecolor": "#A2B1C6",
            "ticks": ""
           }
          },
          "title": {
           "x": 0.05
          },
          "xaxis": {
           "automargin": true,
           "gridcolor": "#EBF0F8",
           "linecolor": "#EBF0F8",
           "ticks": "",
           "title": {
            "standoff": 15
           },
           "zerolinecolor": "#EBF0F8",
           "zerolinewidth": 2
          },
          "yaxis": {
           "automargin": true,
           "gridcolor": "#EBF0F8",
           "linecolor": "#EBF0F8",
           "ticks": "",
           "title": {
            "standoff": 15
           },
           "zerolinecolor": "#EBF0F8",
           "zerolinewidth": 2
          }
         }
        },
        "title": {
         "text": "Algorithm Performance Comparison"
        },
        "xaxis": {
         "anchor": "y",
         "domain": [
          0,
          1
         ],
         "matches": "x2",
         "rangeslider": {
          "visible": true
         },
         "showticklabels": false,
         "type": "linear"
        },
        "xaxis2": {
         "anchor": "y2",
         "domain": [
          0,
          1
         ],
         "title": {
          "text": "Timesteps"
         }
        },
        "yaxis": {
         "anchor": "x",
         "domain": [
          0.55,
          1
         ],
         "title": {
          "text": "Reward"
         }
        },
        "yaxis2": {
         "anchor": "x2",
         "domain": [
          0,
          0.45
         ],
         "title": {
          "text": "Episode Length"
         }
        }
       }
      }
     },
     "metadata": {},
     "output_type": "display_data"
    }
   ],
   "source": [
    "import os\n",
    "import pandas as pd\n",
    "import plotly.graph_objects as go\n",
    "from plotly.subplots import make_subplots\n",
    "import plotly.express as px\n",
    "\n",
    "\n",
    "# Create subplots: 1 column, 2 rows (rewards and lengths)\n",
    "fig = make_subplots(\n",
    "    rows=2, \n",
    "    cols=1,\n",
    "    shared_xaxes=True,\n",
    "    vertical_spacing=0.1,\n",
    "    subplot_titles=(\"Reward Comparison\", \"Episode Length Comparison\")\n",
    ")\n",
    "\n",
    "# Create color palette\n",
    "colors = px.colors.qualitative.Plotly * 2  # Extend color palette\n",
    "\n",
    "# Read and plot data for each algorithm\n",
    "for i, algo in enumerate(algorithms):\n",
    "    file_path = os.path.join(BASE_PATH, f'evaluation_results_{algo}.csv')\n",
    "    df = pd.read_csv(file_path)\n",
    "    df['timestep'] = df.index\n",
    "    # Add reward trace to top subplot\n",
    "    fig.add_trace(\n",
    "        go.Scatter(\n",
    "            x=df['timestep'], \n",
    "            y=df['rewards'],\n",
    "            name=algo,\n",
    "            mode='lines+markers',\n",
    "            line=dict(width=2, color=colors[i]),\n",
    "            marker=dict(size=6),\n",
    "            legendgroup=algo,\n",
    "            showlegend=True if i==0 else False  # Only show legend for first trace\n",
    "        ),\n",
    "        row=1, col=1\n",
    "    )\n",
    "    \n",
    "    # Add episode length trace to bottom subplot\n",
    "    fig.add_trace(\n",
    "        go.Scatter(\n",
    "            x=df['timestep'], \n",
    "            y=df['episode_lenghts'],\n",
    "            name=algo,\n",
    "            mode='lines+markers',\n",
    "            line=dict(width=2, color=colors[i], dash='dot'),\n",
    "            marker=dict(size=6, symbol='square'),\n",
    "            legendgroup=algo,\n",
    "            showlegend=False  # Don't duplicate legend\n",
    "        ),\n",
    "        row=2, col=1\n",
    "    )\n",
    "\n",
    "# Update layout\n",
    "fig.update_layout(\n",
    "    title='Algorithm Performance Comparison',\n",
    "    height=800,\n",
    "    template='plotly_white',\n",
    "    hovermode='x unified',\n",
    "    legend=dict(\n",
    "        orientation=\"h\",\n",
    "        yanchor=\"bottom\",\n",
    "        y=1.02,\n",
    "        xanchor=\"right\",\n",
    "        x=1\n",
    "    )\n",
    ")\n",
    "\n",
    "# Update axis labels\n",
    "fig.update_xaxes(title_text=\"Timesteps\", row=2, col=1)\n",
    "fig.update_yaxes(title_text=\"Reward\", row=1, col=1)\n",
    "fig.update_yaxes(title_text=\"Episode Length\", row=2, col=1)\n",
    "\n",
    "# Add range slider for zooming\n",
    "fig.update_layout(\n",
    "    xaxis=dict(\n",
    "        rangeslider=dict(visible=True),\n",
    "        type=\"linear\"\n",
    "    )\n",
    ")\n",
    "\n",
    "fig.show()"
   ]
  },
  {
   "cell_type": "code",
   "execution_count": 13,
   "metadata": {},
   "outputs": [
    {
     "data": {
      "text/plain": [
       "<Figure size 1400x1000 with 0 Axes>"
      ]
     },
     "metadata": {},
     "output_type": "display_data"
    },
    {
     "data": {
      "image/png": "[encoded data removed]",
      "text/plain": [
       "<Figure size 1400x1000 with 2 Axes>"
      ]
     },
     "metadata": {},
     "output_type": "display_data"
    }
   ],
   "source": [
    "import os\n",
    "import pandas as pd\n",
    "import matplotlib.pyplot as plt\n",
    "import seaborn as sns\n",
    "\n",
    "# Setup\n",
    "sns.set_style(\"whitegrid\")\n",
    "plt.figure(figsize=(14, 10))\n",
    "\n",
    "# Create subplots\n",
    "fig, (ax1, ax2) = plt.subplots(2, 1, figsize=(14, 10), sharex=True)\n",
    "\n",
    "# Plot each algorithm\n",
    "for i, algo in enumerate(algorithms):\n",
    "    file_path = os.path.join(BASE_PATH, f'evaluation_results_{algo}.csv')\n",
    "    df = pd.read_csv(file_path)\n",
    "    df['timestep'] = df.index  # Use index as timestep\n",
    "    # Plot rewards\n",
    "    ax1.plot(\n",
    "        df['timestep'], \n",
    "        df['rewards'], \n",
    "        label=algo,\n",
    "        linewidth=2,\n",
    "        marker='o',\n",
    "        markersize=6\n",
    "    )\n",
    "    \n",
    "    # Plot lengths\n",
    "    ax2.plot(\n",
    "        df['timestep'], \n",
    "        df['episode_lenghts'], \n",
    "        label=algo,\n",
    "        linewidth=2,\n",
    "        linestyle='--',\n",
    "        marker='s',\n",
    "        markersize=6\n",
    "    )\n",
    "\n",
    "# Configure top plot (rewards)\n",
    "ax1.set_title('Reward Comparison', fontsize=14, pad=10)\n",
    "ax1.set_ylabel('Reward', fontsize=12)\n",
    "ax1.grid(True, linestyle='--', alpha=0.7)\n",
    "ax1.tick_params(axis='both', labelsize=10)\n",
    "\n",
    "# Configure bottom plot (lengths)\n",
    "ax2.set_title('Episode Length Comparison', fontsize=14, pad=10)\n",
    "ax2.set_xlabel('Timesteps', fontsize=12)\n",
    "ax2.set_ylabel('Episode Length', fontsize=12)\n",
    "ax2.grid(True, linestyle='--', alpha=0.7)\n",
    "ax2.tick_params(axis='both', labelsize=10)\n",
    "\n",
    "# Add combined legend\n",
    "handles, labels = ax1.get_legend_handles_labels()\n",
    "fig.legend(\n",
    "    handles, \n",
    "    labels, \n",
    "    loc='upper center', \n",
    "    bbox_to_anchor=(0.5, 0.05), \n",
    "    ncol=len(algorithms),\n",
    "    fontsize=10,\n",
    "    frameon=True\n",
    ")\n",
    "\n",
    "# Adjust layout\n",
    "plt.tight_layout()\n",
    "plt.subplots_adjust(bottom=0.12)  # Make room for legend\n",
    "\n",
    "# Save and show\n",
    "plt.savefig('algorithm_comparison.png', dpi=300, bbox_inches='tight')\n",
    "plt.show()"
   ]
  },
  {
   "cell_type": "code",
   "execution_count": 14,
   "metadata": {},
   "outputs": [
    {
     "data": {
      "image/png": "[encoded data removed]",
      "text/plain": [
       "<Figure size 1200x800 with 1 Axes>"
      ]
     },
     "metadata": {},
     "output_type": "display_data"
    }
   ],
   "source": [
    "import os\n",
    "import pandas as pd\n",
    "import numpy as np\n",
    "import matplotlib.pyplot as plt\n",
    "import seaborn as sns\n",
    "\n",
    "\n",
    "\n",
    "# Collect data from all runs\n",
    "all_data = []\n",
    "\n",
    "for algo in algorithms:\n",
    "    file_path = os.path.join(BASE_PATH, f'evaluation_results_{algo}.csv')\n",
    "    if not os.path.exists(file_path):\n",
    "        print(f\"File not found: {file_path}\")\n",
    "        continue\n",
    "    \n",
    "    df = pd.read_csv(file_path)\n",
    "    df['timestep'] = df.index  # Use index as timestep\n",
    "    # Calculate mean reward for this algorithm\n",
    "    mean_reward = df['rewards'].mean()\n",
    "    \n",
    "    # Calculate standard error (for error bars)\n",
    "    std_error = df['rewards'].std() / np.sqrt(len(df))\n",
    "    \n",
    "    # Store results\n",
    "    all_data.append({\n",
    "        'Algorithm': algo,\n",
    "        'Mean Reward': mean_reward,\n",
    "        'Standard Error': std_error\n",
    "    })\n",
    "\n",
    "# Convert to DataFrame\n",
    "results_df = pd.DataFrame(all_data)\n",
    "\n",
    "# Sort by performance (optional)\n",
    "results_df = results_df.sort_values('Mean Reward', ascending=False)\n",
    "\n",
    "# Create plot\n",
    "plt.figure(figsize=(12, 8))\n",
    "ax = sns.barplot(\n",
    "    x='Algorithm', \n",
    "    y='Mean Reward', \n",
    "    data=results_df,\n",
    "    palette='viridis',\n",
    "    order=results_df['Algorithm']  # Maintain sorted order\n",
    ")\n",
    "\n",
    "# Add error bars\n",
    "ax.errorbar(\n",
    "    x=range(len(results_df)),\n",
    "    y=results_df['Mean Reward'],\n",
    "    yerr=results_df['Standard Error'],\n",
    "    fmt='none',\n",
    "    ecolor='black',\n",
    "    capsize=5,\n",
    "    elinewidth=2\n",
    ")\n",
    "\n",
    "# Add value labels on top of bars\n",
    "for i, row in enumerate(results_df.itertuples()):\n",
    "    ax.text(\n",
    "        i, \n",
    "        row._2 + 0.02 * results_df['Mean Reward'].max(),  # Position above bar\n",
    "        f'{row._2:.2f} ± {row._3:.2f}', \n",
    "        ha='center',\n",
    "        fontsize=12,\n",
    "        fontweight='bold'\n",
    "    )\n",
    "\n",
    "# Customize plot\n",
    "plt.title('Mean Reward Comparison Across Algorithms', fontsize=16, pad=20)\n",
    "plt.xlabel('Algorithm', fontsize=14)\n",
    "plt.ylabel('Mean Reward', fontsize=14)\n",
    "plt.xticks(rotation=15, ha='right')  # Rotate algorithm names slightly\n",
    "plt.ylim(0, 1.1 * results_df['Mean Reward'].max())  # Add space for labels\n",
    "plt.grid(axis='y', linestyle='--', alpha=0.7)\n",
    "\n",
    "# Improve layout\n",
    "plt.tight_layout()\n",
    "\n",
    "# Save and show\n",
    "plt.savefig('mean_reward_comparison.png', dpi=300, bbox_inches='tight')\n",
    "plt.show()"
   ]
  },
  {
   "cell_type": "markdown",
   "metadata": {},
   "source": [
    "## Training rewards history"
   ]
  },
  {
   "cell_type": "code",
   "execution_count": 5,
   "metadata": {},
   "outputs": [],
   "source": [
    "BASE_PATH = '../../models/14_07/history'\n",
    "import pandas as pd\n",
    "import matplotlib.pyplot as plt\n",
    "import seaborn as sns\n",
    "import os"
   ]
  },
  {
   "cell_type": "code",
   "execution_count": null,
   "metadata": {},
   "outputs": [],
   "source": [
    "\n",
    "\n",
    "def preprocess_history_file(path):\n",
    "    \n",
    "    df = pd.read_csv(path)\n",
    "    #df['timestep'] = df.index  # Use index as timestep\n",
    "\n",
    "    # Initialize variables\n",
    "    current_offset = 0\n",
    "    prev = 0\n",
    "    global_steps = []\n",
    "\n",
    "    # Iterate through each row to compute global timesteps\n",
    "    for index, row in df.iterrows():\n",
    "        current_ts = row['timestep']  # Replace 'timestep' with your actual column name\n",
    "        if current_ts <= prev:\n",
    "            current_offset += prev\n",
    "        global_ts = current_ts + current_offset\n",
    "        global_steps.append(global_ts)\n",
    "        prev = current_ts\n",
    "\n",
    "    # Add global timesteps as a new column and save\n",
    "    df['timestep'] = global_steps\n",
    "    return df\n",
    "\n",
    "def plot_history(algorithms):\n",
    "        \n",
    "    # Create plot figure\n",
    "    plt.figure(figsize=(12, 8))\n",
    "\n",
    "    # Process each algorithm's data\n",
    "    for algo in algorithms:\n",
    "        path = os.path.join(BASE_PATH, f'{algo}_MlpPolicy_training_history.csv')\n",
    "        df = preprocess_history_file(path)\n",
    "        #df = df.iloc[::10, :]\n",
    "        \n",
    "        \n",
    "        # Plot rewards\n",
    "        sns.lineplot(\n",
    "            data=df,\n",
    "            x='timestep',\n",
    "            y='reward',  # Change to your reward column name if different\n",
    "            label=algo.upper(),\n",
    "            alpha=0.8\n",
    "        )\n",
    "\n",
    "    # Add plot decorations\n",
    "    plt.title(\"Training Rewards Comparison\", fontsize=16)\n",
    "    plt.xlabel(\"Global Timestep\", fontsize=12)\n",
    "    plt.ylabel(\"Mean episode reward\", fontsize=12)\n",
    "    plt.legend(title=\"Algorithms\", fontsize=10, title_fontsize=11)\n",
    "    plt.tight_layout()\n",
    "\n",
    "    # Save and show plot\n",
    "    plt.savefig(\"training_rewards_comparison.png\", dpi=300)\n",
    "    plt.show()\n",
    "def plot_history_plotly(algorithms):\n",
    "    import plotly.express as px\n",
    "    combined_df = pd.DataFrame()\n",
    "\n",
    "    for algo in algorithms:\n",
    "        path = os.path.join(BASE_PATH, f'{algo}_MlpPolicy_training_history.csv')\n",
    "        df = preprocess_history_file(path)\n",
    "        #df = df.iloc[::10, :]  # Downsample to every 10th point\n",
    "        df['Algorithm'] = algo.upper()  # Add algorithm name\n",
    "        combined_df = pd.concat([combined_df, df])\n",
    "\n",
    "    # Create plot\n",
    "    fig = px.line(\n",
    "        combined_df,\n",
    "        x='timestep',\n",
    "        y='reward',\n",
    "        color='Algorithm',\n",
    "        labels={'timestep': 'Global Timestep', 'reward': 'Mean Episode Reward'},\n",
    "        title='Training Rewards Comparison'\n",
    "    )\n",
    "\n",
    "    # Show plot\n",
    "    fig.show()"
   ]
  },
  {
   "cell_type": "code",
   "execution_count": 24,
   "metadata": {},
   "outputs": [],
   "source": [
    "algorithms = ['recurrentattention','Attention', 'CnnPolicy', 'PCA', 'PPO', 'Sparse_autoencoder', 'Sparse_autoencoder_temporal_spatial']\n",
    "path = os.path.join(BASE_PATH,\n",
    "                    'recurrent_ppo_attention',\n",
    "                 f'{algorithms[0]}_MlpPolicy_training_history.csv')\n",
    "df = preprocess_history_file(path)"
   ]
  },
  {
   "cell_type": "markdown",
   "metadata": {},
   "source": [
    "## PPO MlpPolicy/MlpPolicy+Attention/MlpPolicy+Attention detached comparison"
   ]
  },
  {
   "cell_type": "code",
   "execution_count": 29,
   "metadata": {},
   "outputs": [
    {
     "data": {
      "image/png": "[encoded data removed]",
      "text/plain": [
       "<Figure size 1200x800 with 1 Axes>"
      ]
     },
     "metadata": {},
     "output_type": "display_data"
    }
   ],
   "source": [
    "algorithms = [\"ppo\", \"attention\", \"attention_not_detached\", \"attention_feature_selection\", \"attention_feature_selection_no_pretraining\"]\n",
    "plot_history(algorithms)"
   ]
  },
  {
   "cell_type": "code",
   "execution_count": 30,
   "metadata": {},
   "outputs": [
    {
     "data": {
      "application/vnd.plotly.v1+json": {
       "config": {
        "plotlyServerURL": "https://plot.ly"
       },
       "data": [
        {
         "hovertemplate": "Algorithm=PPO<br>Global Timestep=%{x}<br>Reward=%{y}<extra></extra>",
         "legendgroup": "PPO",
         "line": {
          "color": "#636efa",
          "dash": "solid"
         },
         "marker": {
          "symbol": "circle"
         },
         "mode": "lines",
         "name": "PPO",
         "orientation": "v",
         "showlegend": true,
         "type": "scatter",
         "x": [
          50,
          100,
          150,
          200,
          250,
          300,
          350,
          400,
          450,
          500,
          550,
          600,
          650,
          700,
          750,
          800,
          850,
          900,
          950,
          1000,
          1050,
          1100,
          1150,
          1200,
          1250,
          1300,
          1350,
          1400,
          1450,
          1500,
          1550,
          1600,
          1650,
          1700,
          1750,
          1800,
          1850,
          1900,
          1950,
          2000,
          2050,
          2100,
          2150,
          2200,
          2250,
          2300,
          2350,
          2400,
          2450,
          2500,
          2550,
          2600,
          2650,
          2700,
          2750,
          2800,
          2850,
          2900,
          2950,
          3000,
          3050,
          3100,
          3150,
          3200,
          3250,
          3300,
          3350,
          3400,
          3450,
          3500,
          3550,
          3600,
          3650,
          3700,
          3750,
          3800,
          3850,
          3900,
          3950,
          4000,
          4050,
          4100,
          4150,
          4200,
          4250,
          4300,
          4350,
          4400,
          4450,
          4500,
          4550,
          4600,
          4650,
          4700,
          4750,
          4800,
          4850,
          4900,
          4950,
          5000,
          5050,
          5100,
          5150,
          5200,
          5250,
          5300,
          5350,
          5400,
          5450,
          5500,
          5550,
          5600,
          5650,
          5700,
          5750,
          5800,
          5850,
          5900,
          5950,
          6000,
          6050,
          6100,
          6150,
          6200,
          6250,
          6300,
          6350,
          6400,
          6450,
          6500,
          6550,
          6600,
          6650,
          6700,
          6750,
          6800,
          6850,
          6900,
          6950,
          7000,
          7050,
          7100,
          7150,
          7200,
          7250,
          7300,
          7350,
          7400,
          7450,
          7500,
          7550,
          7600,
          7650,
          7700,
          7750,
          7800,
          7850,
          7900,
          7950,
          8000,
          8050,
          8100,
          8150,
          8200,
          8250,
          8300,
          8350,
          8400,
          8450,
          8500,
          8550,
          8600,
          8650,
          8700,
          8750,
          8800,
          8850,
          8900,
          8950,
          9000,
          9050,
          9100,
          9150,
          9200,
          9250,
          9300,
          9350,
          9400,
          9450,
          9500,
          9550,
          9600,
          9650,
          9700,
          9750,
          9800,
          9850,
          9900,
          9950,
          10000,
          10050,
          10100,
          10150,
          10200,
          10250,
          10300,
          10350,
          10400,
          10450,
          10500,
          10550,
          10600,
          10650,
          10700,
          10750,
          10800,
          10850,
          10900,
          10950,
          11000,
          11050,
          11100,
          11150,
          11200,
          11250,
          11300,
          11350,
          11400,
          11450,
          11500,
          11550,
          11600,
          11650,
          11700,
          11750,
          11800,
          11850,
          11900,
          11950,
          12000,
          12050,
          12100,
          12150,
          12200,
          12250,
          12300,
          12350,
          12400,
          12450,
          12500,
          12550,
          12600,
          12650,
          12700,
          12750,
          12800,
          12850,
          12900,
          12950,
          13000,
          13050,
          13100,
          13150,
          13200,
          13250,
          13300,
          13350,
          13400,
          13450,
          13500,
          13550,
          13600,
          13650,
          13700,
          13750,
          13800,
          13850,
          13900,
          13950,
          14000,
          14050,
          14100,
          14150,
          14200,
          14250,
          14300,
          14350,
          14400,
          14450,
          14500,
          14550,
          14600,
          14650,
          14700,
          14750,
          14800,
          14850,
          14900,
          14950,
          15000,
          15050,
          15100,
          15150,
          15200,
          15250,
          15300,
          15350,
          15400,
          15450,
          15500,
          15550,
          15600,
          15650,
          15700,
          15750,
          15800,
          15850,
          15900,
          15950,
          16000,
          16050,
          16100,
          16150,
          16200,
          16250,
          16300,
          16350,
          16400,
          16450,
          16500,
          16550,
          16600,
          16650,
          16700,
          16750,
          16800,
          16850,
          16900,
          16950,
          17000,
          17050,
          17100,
          17150,
          17200,
          17250,
          17300,
          17350,
          17400,
          17450,
          17500,
          17550,
          17600,
          17650,
          17700,
          17750,
          17800,
          17850,
          17900,
          17950,
          18000,
          18050,
          18100,
          18150,
          18200,
          18250,
          18300,
          18350,
          18400,
          18450,
          18500,
          18550,
          18600,
          18650,
          18700,
          18750,
          18800,
          18850,
          18900,
          18950,
          19000,
          19050,
          19100,
          19150,
          19200,
          19250,
          19300,
          19350,
          19400,
          19450,
          19500,
          19550,
          19600,
          19650,
          19700,
          19750,
          19800,
          19850,
          19900,
          19950,
          20000,
          20050,
          20100,
          20150,
          20200,
          20250,
          20300,
          20350,
          20400,
          20450,
          20500,
          20550,
          20600,
          20650,
          20700,
          20750,
          20800,
          20850,
          20900,
          20950,
          21000,
          21050,
          21100,
          21150,
          21200,
          21250,
          21300,
          21350,
          21400,
          21450,
          21500,
          21550,
          21600,
          21650,
          21700,
          21750,
          21800,
          21850,
          21900,
          21950,
          22000,
          22050,
          22100,
          22150,
          22200,
          22250,
          22300,
          22350,
          22400,
          22450,
          22500,
          22550,
          22600,
          22650,
          22700,
          22750,
          22800,
          22850,
          22900,
          22950,
          23000,
          23050,
          23100,
          23150,
          23200,
          23250,
          23300,
          23350,
          23400,
          23450,
          23500,
          23550,
          23600,
          23650,
          23700,
          23750,
          23800,
          23850,
          23900,
          23950,
          24000,
          24050,
          24100,
          24150,
          24200,
          24250,
          24300,
          24350,
          24400,
          24450,
          24500,
          24550,
          24600,
          24650,
          24700,
          24750,
          24800,
          24850,
          24900,
          24950,
          25000,
          25050,
          25100,
          25150,
          25200,
          25250,
          25300,
          25350,
          25400,
          25450,
          25500,
          25550,
          25600,
          25650,
          25700,
          25750,
          25800,
          25850,
          25900,
          25950,
          26000,
          26050,
          26100,
          26150,
          26200,
          26250,
          26300,
          26350,
          26400,
          26450,
          26500,
          26550,
          26600,
          26650,
          26700,
          26750,
          26800,
          26850,
          26900,
          26950,
          27000,
          27050,
          27100,
          27150,
          27200,
          27250,
          27300,
          27350,
          27400,
          27450,
          27500,
          27550,
          27600,
          27650,
          27700,
          27750,
          27800,
          27850,
          27900,
          27950,
          28000,
          28050,
          28100,
          28150,
          28200,
          28250,
          28300,
          28350,
          28400,
          28450,
          28500,
          28550,
          28600,
          28650,
          28700,
          28750,
          28800,
          28850,
          28900,
          28950,
          29000,
          29050,
          29100,
          29150,
          29200,
          29250,
          29300,
          29350,
          29400,
          29450,
          29500,
          29550,
          29600,
          29650,
          29700,
          29750,
          29800,
          29850,
          29900,
          29950
         ],
         "xaxis": "x",
         "y": [
          -7,
          -7.45,
          -7.45,
          -7.533333333333334,
          -6.625,
          -6.2,
          -6.2,
          -6.816666666666666,
          -7.142857142857142,
          -7.142857142857142,
          -6.666666666666668,
          -6.666666666666668,
          -6.82,
          -6.590909090909091,
          -6.541666666666668,
          -6.541666666666668,
          -6.792307692307693,
          -6.692857142857143,
          -6.692857142857143,
          -6.6800000000000015,
          -6.6,
          -6.6,
          -6.864705882352941,
          -6.794444444444442,
          -6.594736842105262,
          -6.624999999999997,
          -6.609523809523809,
          -6.531818181818181,
          -6.531818181818181,
          -6.643478260869564,
          -6.541666666666668,
          -6.541666666666668,
          -6.636,
          -6.6692307692307695,
          -6.6692307692307695,
          -6.553571428571429,
          -6.503448275862071,
          -6.49,
          -6.422580645161292,
          -6.334375,
          -6.334375,
          -6.372727272727272,
          -6.3352941176470585,
          -6.3114285714285705,
          -6.3,
          -6.2648648648648635,
          -6.292105263157895,
          -6.24871794871795,
          -6.25,
          -6.25,
          -6.2317073170731705,
          -6.273809523809524,
          -6.2697674418604645,
          -6.2697674418604645,
          -6.2697674418604645,
          -6.372727272727274,
          -6.44,
          -6.44,
          -6.432608695652175,
          -6.414893617021277,
          -6.445833333333333,
          -6.393877551020408,
          -6.393877551020408,
          -6.411999999999999,
          -6.427450980392157,
          -6.396153846153847,
          -6.367924528301886,
          -6.367924528301886,
          -6.429629629629629,
          -6.409090909090907,
          -6.4125000000000005,
          -6.394736842105262,
          -6.394736842105262,
          -6.413793103448277,
          -6.413793103448277,
          -6.477966101694915,
          -6.47,
          -6.4327868852459025,
          -6.404838709677419,
          -6.4015873015873,
          -6.3578125,
          -6.346153846153847,
          -6.267164179104477,
          -6.267164179104477,
          -6.285294117647059,
          -6.291304347826086,
          -6.26,
          -6.2661971830985905,
          -6.2250000000000005,
          -6.217808219178082,
          -6.204054054054056,
          -6.204054054054056,
          -6.230666666666667,
          -6.203947368421053,
          -6.2038961038961045,
          -6.2038961038961045,
          -6.258974358974358,
          -6.251898734177215,
          -6.22625,
          -6.209876543209878,
          -6.199999999999998,
          -6.195180722891567,
          -6.166666666666665,
          -6.142352941176469,
          -6.112790697674417,
          -6.116091954022987,
          -6.103409090909091,
          -6.103370786516853,
          -6.111111111111112,
          -6.079120879120881,
          -6.05,
          -6.058064516129033,
          -6.0340425531914885,
          -6.0221052631578935,
          -5.996875,
          -6.006185567010308,
          -5.955555555555557,
          -5.9479999999999995,
          -5.9079999999999995,
          -5.875000000000001,
          -5.864000000000001,
          -5.8560000000000025,
          -5.7829999999999995,
          -5.7829999999999995,
          -5.779000000000001,
          -5.7600000000000025,
          -5.7730000000000015,
          -5.732,
          -5.715000000000002,
          -5.655,
          -5.655,
          -5.634999999999999,
          -5.6160000000000005,
          -5.517,
          -5.524000000000001,
          -5.493000000000002,
          -5.477,
          -5.4110000000000005,
          -5.4270000000000005,
          -5.374999999999999,
          -5.338999999999999,
          -5.300999999999998,
          -5.288999999999999,
          -5.257999999999999,
          -5.2719999999999985,
          -5.2410000000000005,
          -5.224,
          -5.215,
          -5.1979999999999995,
          -5.2010000000000005,
          -5.155000000000001,
          -5.127000000000002,
          -5.061,
          -5.042000000000002,
          -4.973,
          -4.884,
          -4.860999999999999,
          -4.8199999999999985,
          -4.824000000000002,
          -4.754999999999999,
          -4.741999999999999,
          -4.666,
          -4.647,
          -4.585000000000001,
          -4.474,
          -4.4510000000000005,
          -4.44,
          -4.4060000000000015,
          -4.402,
          -4.391,
          -4.384,
          -4.3420000000000005,
          -4.308,
          -4.274,
          -4.246,
          -4.222,
          -4.17,
          -4.163,
          -4.058,
          -4.0459999999999985,
          -4.008,
          -3.986,
          -3.9780000000000006,
          -3.975000000000001,
          -3.956,
          -3.903,
          -3.864,
          -3.813,
          -3.803,
          -3.784,
          -3.749,
          -3.742,
          -3.726,
          -3.71,
          -3.667,
          -3.6489999999999987,
          -3.573,
          -3.551,
          -3.518,
          -3.509,
          -3.472,
          -3.4599999999999995,
          -3.451,
          -3.446,
          -3.418,
          -3.404,
          -3.38,
          -3.361,
          -3.363,
          -3.3640000000000003,
          -3.3489999999999998,
          -3.3250000000000006,
          -3.302,
          -3.275,
          -3.2509999999999994,
          -3.2350000000000008,
          -3.2120000000000006,
          -3.19,
          -3.1660000000000004,
          -3.1599999999999997,
          -3.128,
          -3.1060000000000003,
          -3.0860000000000003,
          -3.0779999999999994,
          -3.077,
          -3.0720000000000005,
          -3.0559999999999987,
          -3.0399999999999987,
          -3.0209999999999995,
          -2.996,
          -2.9760000000000004,
          -2.9509999999999987,
          -2.932999999999999,
          -2.9289999999999994,
          -2.909,
          -2.878,
          -2.8720000000000003,
          -2.857,
          -2.829,
          -2.8120000000000003,
          -2.7920000000000003,
          -2.785,
          -2.774,
          -2.764,
          -2.7449999999999988,
          -2.728,
          -2.7110000000000003,
          -2.7039999999999997,
          -2.6989999999999994,
          -2.692,
          -2.69,
          -2.681,
          -2.669,
          -2.658000000000001,
          -2.656,
          -2.639,
          -2.616999999999999,
          -2.6,
          -2.585,
          -2.5690000000000004,
          -2.5460000000000003,
          -2.532,
          -2.5269999999999997,
          -2.523,
          -2.509,
          -2.502,
          -2.499,
          -2.494,
          -2.486,
          -2.483,
          -2.4770000000000003,
          -2.477,
          -2.459,
          -2.4530000000000003,
          -2.447,
          -2.439,
          -2.43,
          -2.4330000000000003,
          -2.4330000000000003,
          -2.427,
          -2.423,
          -2.4159999999999995,
          -2.414,
          -2.399,
          -2.395,
          -2.387,
          -2.391,
          -2.391,
          -2.381,
          -2.379,
          -2.375,
          -2.374,
          -2.3759999999999994,
          -2.371,
          -2.359,
          -2.355,
          -2.3550000000000004,
          -2.349,
          -2.347,
          -2.343,
          -2.3349999999999995,
          -2.332,
          -2.3320000000000003,
          -2.331,
          -2.3350000000000004,
          -2.3350000000000004,
          -2.3310000000000004,
          -2.336,
          -2.333,
          -2.3280000000000003,
          -2.318,
          -2.3119999999999994,
          -2.3089999999999997,
          -2.302,
          -2.3020000000000005,
          -2.298,
          -2.2969999999999997,
          -2.2920000000000003,
          -2.29,
          -2.2880000000000003,
          -2.2880000000000003,
          -2.285,
          -2.28,
          -2.27,
          -2.271,
          -2.271,
          -2.272,
          -2.2680000000000002,
          -2.266,
          -2.2669999999999995,
          -2.264,
          -2.261,
          -2.257,
          -2.257,
          -2.251,
          -2.252,
          -2.254,
          -2.248,
          -2.246,
          -2.2469999999999994,
          -2.248,
          -2.246,
          -2.24,
          -2.239,
          -2.237,
          -2.2430000000000003,
          -2.24,
          -2.2389999999999994,
          -2.237,
          -2.231,
          -2.226,
          -2.219,
          -2.219,
          -2.216,
          -2.214,
          -2.211,
          -2.21,
          -2.206,
          -2.2,
          -2.196,
          -2.188,
          -2.1820000000000004,
          -2.181,
          -2.1790000000000003,
          -2.17,
          -2.1660000000000004,
          -2.167,
          -2.167,
          -2.165,
          -2.162,
          -2.157,
          -2.155,
          -2.152,
          -2.152,
          -2.148,
          -2.145,
          -2.144,
          -2.1420000000000003,
          -2.14,
          -2.131,
          -2.1300000000000003,
          -2.123,
          -2.117,
          -2.112,
          -2.1090000000000004,
          -2.104,
          -2.103,
          -2.093,
          -2.088,
          -2.0850000000000004,
          -2.084,
          -2.083,
          -2.081,
          -2.08,
          -2.0780000000000003,
          -2.075,
          -2.074,
          -2.072,
          -2.072,
          -2.074,
          -2.072,
          -2.07,
          -2.072,
          -2.075,
          -2.0729999999999995,
          -2.076,
          -2.077,
          -2.076,
          -2.073,
          -2.07,
          -2.07,
          -2.072,
          -2.071,
          -2.0740000000000003,
          -2.074,
          -2.072,
          -2.0709999999999997,
          -2.072,
          -2.074,
          -2.074,
          -2.076,
          -2.0780000000000003,
          -2.077,
          -2.0780000000000003,
          -2.0780000000000003,
          -2.083,
          -2.0850000000000004,
          -2.083,
          -2.086,
          -2.0840000000000005,
          -2.0850000000000004,
          -2.084,
          -2.0849999999999995,
          -2.088,
          -2.087,
          -2.0890000000000004,
          -2.0909999999999997,
          -2.092,
          -2.096,
          -2.097,
          -2.097,
          -2.099,
          -2.096,
          -2.097,
          -2.097,
          -2.095,
          -2.092,
          -2.088,
          -2.09,
          -2.0889999999999995,
          -2.085,
          -2.085,
          -2.082,
          -2.08,
          -2.082,
          -2.079,
          -2.079,
          -2.08,
          -2.0780000000000003,
          -2.074,
          -2.075,
          -2.072,
          -2.072,
          -2.069,
          -2.073,
          -2.074,
          -2.076,
          -2.073,
          -2.073,
          -2.071,
          -2.07,
          -2.074,
          -2.074,
          -2.074,
          -2.074,
          -2.075,
          -2.075,
          -2.07,
          -2.0669999999999997,
          -2.0650000000000004,
          -2.0620000000000003,
          -2.059,
          -2.057,
          -2.0610000000000004,
          -2.0600000000000005,
          -2.0609999999999995,
          -2.062,
          -2.062,
          -2.0620000000000003,
          -2.063,
          -2.0609999999999995,
          -2.061,
          -2.066,
          -2.066,
          -2.0620000000000003,
          -2.0610000000000004,
          -2.06,
          -2.0580000000000003,
          -2.0570000000000004,
          -2.06,
          -2.0580000000000003,
          -2.059,
          -2.061,
          -2.0580000000000003,
          -2.059,
          -2.053,
          -2.051,
          -2.049,
          -2.05,
          -2.051,
          -2.052,
          -2.0540000000000003,
          -2.0540000000000003,
          -2.05,
          -2.048,
          -2.0420000000000003,
          -2.039,
          -2.039,
          -2.04,
          -2.0380000000000003,
          -2.039,
          -2.039,
          -2.04,
          -2.039,
          -2.0370000000000004,
          -2.036,
          -2.033,
          -2.031,
          -2.032,
          -2.033,
          -2.03,
          -2.029,
          -2.028,
          -2.029,
          -2.03,
          -2.033,
          -2.031,
          -2.031,
          -2.032,
          -2.032,
          -2.03,
          -2.028,
          -2.0250000000000004,
          -2.025,
          -2.0240000000000005,
          -2.0240000000000005,
          -2.0269999999999997,
          -2.027,
          -2.026,
          -2.023,
          -2.0200000000000005,
          -2.016,
          -2.012,
          -2.012,
          -2.013,
          -2.013,
          -2.012,
          -2.012,
          -2.0080000000000005,
          -2.006,
          -2.004,
          -2.002,
          -2.002,
          -2.0009999999999994,
          -1.999,
          -1.999,
          -1.997,
          -1.997,
          -1.997,
          -1.997,
          -1.996,
          -1.994,
          -1.993,
          -1.991,
          -1.99,
          -1.9869999999999999,
          -1.986,
          -1.986,
          -1.982,
          -1.981,
          -1.982,
          -1.982,
          -1.981,
          -1.982,
          -1.983,
          -1.984,
          -1.983,
          -1.983,
          -1.984,
          -1.984,
          -1.986,
          -1.9869999999999999,
          -1.986,
          -1.9850000000000003,
          -1.983,
          -1.983,
          -1.985,
          -1.984,
          -1.9869999999999999
         ],
         "yaxis": "y"
        },
        {
         "hovertemplate": "Algorithm=ATTENTION<br>Global Timestep=%{x}<br>Reward=%{y}<extra></extra>",
         "legendgroup": "ATTENTION",
         "line": {
          "color": "#EF553B",
          "dash": "solid"
         },
         "marker": {
          "symbol": "circle"
         },
         "mode": "lines",
         "name": "ATTENTION",
         "orientation": "v",
         "showlegend": true,
         "type": "scatter",
         "x": [
          2048,
          4096,
          6144,
          8192,
          10240,
          12288,
          14336,
          16384,
          18432,
          20480,
          22528,
          24576,
          26624,
          28672,
          30720,
          32768,
          34816,
          36864,
          38912,
          40960,
          43008,
          45056,
          47104,
          49152,
          51200,
          53248,
          55296,
          57344,
          59392,
          61440,
          63488,
          65536,
          67584,
          69632,
          71680,
          73728,
          75776,
          77824,
          79872,
          81920,
          83968,
          86016,
          88064,
          90112,
          92160,
          94208,
          96256,
          98304,
          100352
         ],
         "xaxis": "x",
         "y": [
          -6.623333333333332,
          -5.561643835616438,
          -4.599,
          -3.773000000000001,
          -3.262,
          -6.334375,
          -5.644444444444446,
          -4.6930000000000005,
          -3.769,
          -3.221000000000001,
          -2.849,
          -2.548,
          -2.367,
          -2.199,
          -2.109,
          -2.0660000000000003,
          -2.022,
          -2.012,
          -1.992,
          -1.966,
          -1.966,
          -1.958,
          -1.948,
          -1.927,
          -1.929,
          -1.934,
          -1.937,
          -1.922,
          -1.937,
          -1.93,
          -1.923,
          -1.9280000000000002,
          -1.916,
          -1.917,
          -1.92,
          -1.918,
          -1.912,
          -1.92,
          -1.921,
          -1.923,
          -1.919,
          -1.92,
          -1.932,
          -1.923,
          -1.915,
          -1.916,
          -1.909,
          -1.909,
          -1.9080000000000001
         ],
         "yaxis": "y"
        },
        {
         "hovertemplate": "Algorithm=ATTENTION_NOT_DETACHED<br>Global Timestep=%{x}<br>Reward=%{y}<extra></extra>",
         "legendgroup": "ATTENTION_NOT_DETACHED",
         "line": {
          "color": "#00cc96",
          "dash": "solid"
         },
         "marker": {
          "symbol": "circle"
         },
         "mode": "lines",
         "name": "ATTENTION_NOT_DETACHED",
         "orientation": "v",
         "showlegend": true,
         "type": "scatter",
         "x": [
          2048,
          4096,
          6144,
          8192,
          10240,
          12288,
          14336,
          16384,
          18432,
          20480,
          22528,
          24576,
          26624,
          28672,
          30720,
          32768,
          34816,
          36864,
          38912,
          40960
         ],
         "xaxis": "x",
         "y": [
          -6.409677418999999,
          -5.778571428999999,
          -4.564,
          -3.614,
          -3.2230000000000003,
          -2.7560000000000002,
          -2.576,
          -2.404,
          -2.246,
          -2.144,
          -2.09,
          -2.064,
          -2.048,
          -2.032,
          -2.019,
          -2.0140000000000002,
          -2.006,
          -1.979,
          -1.9580000000000002,
          -1.985
         ],
         "yaxis": "y"
        },
        {
         "hovertemplate": "Algorithm=ATTENTION_FEATURE_SELECTION<br>Global Timestep=%{x}<br>Reward=%{y}<extra></extra>",
         "legendgroup": "ATTENTION_FEATURE_SELECTION",
         "line": {
          "color": "#ab63fa",
          "dash": "solid"
         },
         "marker": {
          "symbol": "circle"
         },
         "mode": "lines",
         "name": "ATTENTION_FEATURE_SELECTION",
         "orientation": "v",
         "showlegend": true,
         "type": "scatter",
         "x": [
          2048,
          4096,
          6144,
          8192,
          10240,
          12288,
          14336,
          16384,
          18432,
          20480,
          22528,
          24576,
          26624,
          28672,
          30720,
          32768,
          34816,
          36864,
          38912,
          40960
         ],
         "xaxis": "x",
         "y": [
          -6.262499999999998,
          -6.2892307692307705,
          -6.009999999999999,
          -5.42,
          -5.104,
          -4.748837209302327,
          -4.63409090909091,
          -4.382,
          -4.17,
          -3.855,
          -3.667,
          -3.6000000000000005,
          -3.463,
          -3.2449999999999988,
          -3.2280000000000006,
          -3.0989999999999998,
          -3.0749999999999997,
          -3.0589999999999997,
          -2.959,
          -2.841
         ],
         "yaxis": "y"
        },
        {
         "hovertemplate": "Algorithm=ATTENTION_FEATURE_SELECTION_NO_PRETRAINING<br>Global Timestep=%{x}<br>Reward=%{y}<extra></extra>",
         "legendgroup": "ATTENTION_FEATURE_SELECTION_NO_PRETRAINING",
         "line": {
          "color": "#FFA15A",
          "dash": "solid"
         },
         "marker": {
          "symbol": "circle"
         },
         "mode": "lines",
         "name": "ATTENTION_FEATURE_SELECTION_NO_PRETRAINING",
         "orientation": "v",
         "showlegend": true,
         "type": "scatter",
         "x": [
          2048,
          4096,
          6144,
          8192,
          10240,
          12288,
          14336,
          16384,
          18432,
          20480,
          22528,
          24576,
          26624,
          28672,
          30720,
          32768,
          34816,
          36864,
          38912,
          40960,
          43008,
          45056,
          47104,
          49152,
          51200,
          53248,
          55296,
          57344,
          59392,
          61440,
          63488,
          65536,
          67584,
          69632,
          71680,
          73728,
          75776,
          77824,
          79872,
          81920,
          83968,
          86016,
          88064,
          90112,
          92160,
          94208,
          96256,
          98304,
          100352,
          102400,
          104448,
          106496,
          108544,
          110592
         ],
         "xaxis": "x",
         "y": [
          -6.087878787878788,
          -6.204545454545454,
          -6.010999999999999,
          -5.494,
          -5.226,
          -4.876190476190477,
          -4.678160919540231,
          -4.352,
          -4.227,
          -4.0360000000000005,
          -3.811,
          -3.618,
          -3.478,
          -3.2620000000000005,
          -3.239,
          -3.115,
          -3.0970000000000004,
          -3.1129999999999995,
          -3.027,
          -2.8960000000000004,
          -2.7920000000000003,
          -2.756,
          -2.713,
          -2.666000000000001,
          -2.5770000000000004,
          -2.585,
          -2.506,
          -2.4640000000000004,
          -2.415,
          -2.363,
          -2.3489999999999998,
          -2.266,
          -2.244,
          -2.213,
          -2.208,
          -2.208,
          -2.174,
          -2.15,
          -2.133,
          -2.124,
          -2.0869999999999997,
          -2.08,
          -2.072,
          -2.0620000000000003,
          -2.075,
          -2.055,
          -2.0370000000000004,
          -2.028,
          -2.022,
          -2.002,
          -1.994,
          -2.006,
          -1.994,
          -1.99
         ],
         "yaxis": "y"
        }
       ],
       "layout": {
        "legend": {
         "title": {
          "text": "Algorithm"
         },
         "tracegroupgap": 0
        },
        "template": {
         "data": {
          "bar": [
           {
            "error_x": {
             "color": "#2a3f5f"
            },
            "error_y": {
             "color": "#2a3f5f"
            },
            "marker": {
             "line": {
              "color": "#E5ECF6",
              "width": 0.5
             },
             "pattern": {
              "fillmode": "overlay",
              "size": 10,
              "solidity": 0.2
             }
            },
            "type": "bar"
           }
          ],
          "barpolar": [
           {
            "marker": {
             "line": {
              "color": "#E5ECF6",
              "width": 0.5
             },
             "pattern": {
              "fillmode": "overlay",
              "size": 10,
              "solidity": 0.2
             }
            },
            "type": "barpolar"
           }
          ],
          "carpet": [
           {
            "aaxis": {
             "endlinecolor": "#2a3f5f",
             "gridcolor": "white",
             "linecolor": "white",
             "minorgridcolor": "white",
             "startlinecolor": "#2a3f5f"
            },
            "baxis": {
             "endlinecolor": "#2a3f5f",
             "gridcolor": "white",
             "linecolor": "white",
             "minorgridcolor": "white",
             "startlinecolor": "#2a3f5f"
            },
            "type": "carpet"
           }
          ],
          "choropleth": [
           {
            "colorbar": {
             "outlinewidth": 0,
             "ticks": ""
            },
            "type": "choropleth"
           }
          ],
          "contour": [
           {
            "colorbar": {
             "outlinewidth": 0,
             "ticks": ""
            },
            "colorscale": [
             [
              0,
              "#0d0887"
             ],
             [
              0.1111111111111111,
              "#46039f"
             ],
             [
              0.2222222222222222,
              "#7201a8"
             ],
             [
              0.3333333333333333,
              "#9c179e"
             ],
             [
              0.4444444444444444,
              "#bd3786"
             ],
             [
              0.5555555555555556,
              "#d8576b"
             ],
             [
              0.6666666666666666,
              "#ed7953"
             ],
             [
              0.7777777777777778,
              "#fb9f3a"
             ],
             [
              0.8888888888888888,
              "#fdca26"
             ],
             [
              1,
              "#f0f921"
             ]
            ],
            "type": "contour"
           }
          ],
          "contourcarpet": [
           {
            "colorbar": {
             "outlinewidth": 0,
             "ticks": ""
            },
            "type": "contourcarpet"
           }
          ],
          "heatmap": [
           {
            "colorbar": {
             "outlinewidth": 0,
             "ticks": ""
            },
            "colorscale": [
             [
              0,
              "#0d0887"
             ],
             [
              0.1111111111111111,
              "#46039f"
             ],
             [
              0.2222222222222222,
              "#7201a8"
             ],
             [
              0.3333333333333333,
              "#9c179e"
             ],
             [
              0.4444444444444444,
              "#bd3786"
             ],
             [
              0.5555555555555556,
              "#d8576b"
             ],
             [
              0.6666666666666666,
              "#ed7953"
             ],
             [
              0.7777777777777778,
              "#fb9f3a"
             ],
             [
              0.8888888888888888,
              "#fdca26"
             ],
             [
              1,
              "#f0f921"
             ]
            ],
            "type": "heatmap"
           }
          ],
          "heatmapgl": [
           {
            "colorbar": {
             "outlinewidth": 0,
             "ticks": ""
            },
            "colorscale": [
             [
              0,
              "#0d0887"
             ],
             [
              0.1111111111111111,
              "#46039f"
             ],
             [
              0.2222222222222222,
              "#7201a8"
             ],
             [
              0.3333333333333333,
              "#9c179e"
             ],
             [
              0.4444444444444444,
              "#bd3786"
             ],
             [
              0.5555555555555556,
              "#d8576b"
             ],
             [
              0.6666666666666666,
              "#ed7953"
             ],
             [
              0.7777777777777778,
              "#fb9f3a"
             ],
             [
              0.8888888888888888,
              "#fdca26"
             ],
             [
              1,
              "#f0f921"
             ]
            ],
            "type": "heatmapgl"
           }
          ],
          "histogram": [
           {
            "marker": {
             "pattern": {
              "fillmode": "overlay",
              "size": 10,
              "solidity": 0.2
             }
            },
            "type": "histogram"
           }
          ],
          "histogram2d": [
           {
            "colorbar": {
             "outlinewidth": 0,
             "ticks": ""
            },
            "colorscale": [
             [
              0,
              "#0d0887"
             ],
             [
              0.1111111111111111,
              "#46039f"
             ],
             [
              0.2222222222222222,
              "#7201a8"
             ],
             [
              0.3333333333333333,
              "#9c179e"
             ],
             [
              0.4444444444444444,
              "#bd3786"
             ],
             [
              0.5555555555555556,
              "#d8576b"
             ],
             [
              0.6666666666666666,
              "#ed7953"
             ],
             [
              0.7777777777777778,
              "#fb9f3a"
             ],
             [
              0.8888888888888888,
              "#fdca26"
             ],
             [
              1,
              "#f0f921"
             ]
            ],
            "type": "histogram2d"
           }
          ],
          "histogram2dcontour": [
           {
            "colorbar": {
             "outlinewidth": 0,
             "ticks": ""
            },
            "colorscale": [
             [
              0,
              "#0d0887"
             ],
             [
              0.1111111111111111,
              "#46039f"
             ],
             [
              0.2222222222222222,
              "#7201a8"
             ],
             [
              0.3333333333333333,
              "#9c179e"
             ],
             [
              0.4444444444444444,
              "#bd3786"
             ],
             [
              0.5555555555555556,
              "#d8576b"
             ],
             [
              0.6666666666666666,
              "#ed7953"
             ],
             [
              0.7777777777777778,
              "#fb9f3a"
             ],
             [
              0.8888888888888888,
              "#fdca26"
             ],
             [
              1,
              "#f0f921"
             ]
            ],
            "type": "histogram2dcontour"
           }
          ],
          "mesh3d": [
           {
            "colorbar": {
             "outlinewidth": 0,
             "ticks": ""
            },
            "type": "mesh3d"
           }
          ],
          "parcoords": [
           {
            "line": {
             "colorbar": {
              "outlinewidth": 0,
              "ticks": ""
             }
            },
            "type": "parcoords"
           }
          ],
          "pie": [
           {
            "automargin": true,
            "type": "pie"
           }
          ],
          "scatter": [
           {
            "fillpattern": {
             "fillmode": "overlay",
             "size": 10,
             "solidity": 0.2
            },
            "type": "scatter"
           }
          ],
          "scatter3d": [
           {
            "line": {
             "colorbar": {
              "outlinewidth": 0,
              "ticks": ""
             }
            },
            "marker": {
             "colorbar": {
              "outlinewidth": 0,
              "ticks": ""
             }
            },
            "type": "scatter3d"
           }
          ],
          "scattercarpet": [
           {
            "marker": {
             "colorbar": {
              "outlinewidth": 0,
              "ticks": ""
             }
            },
            "type": "scattercarpet"
           }
          ],
          "scattergeo": [
           {
            "marker": {
             "colorbar": {
              "outlinewidth": 0,
              "ticks": ""
             }
            },
            "type": "scattergeo"
           }
          ],
          "scattergl": [
           {
            "marker": {
             "colorbar": {
              "outlinewidth": 0,
              "ticks": ""
             }
            },
            "type": "scattergl"
           }
          ],
          "scattermapbox": [
           {
            "marker": {
             "colorbar": {
              "outlinewidth": 0,
              "ticks": ""
             }
            },
            "type": "scattermapbox"
           }
          ],
          "scatterpolar": [
           {
            "marker": {
             "colorbar": {
              "outlinewidth": 0,
              "ticks": ""
             }
            },
            "type": "scatterpolar"
           }
          ],
          "scatterpolargl": [
           {
            "marker": {
             "colorbar": {
              "outlinewidth": 0,
              "ticks": ""
             }
            },
            "type": "scatterpolargl"
           }
          ],
          "scatterternary": [
           {
            "marker": {
             "colorbar": {
              "outlinewidth": 0,
              "ticks": ""
             }
            },
            "type": "scatterternary"
           }
          ],
          "surface": [
           {
            "colorbar": {
             "outlinewidth": 0,
             "ticks": ""
            },
            "colorscale": [
             [
              0,
              "#0d0887"
             ],
             [
              0.1111111111111111,
              "#46039f"
             ],
             [
              0.2222222222222222,
              "#7201a8"
             ],
             [
              0.3333333333333333,
              "#9c179e"
             ],
             [
              0.4444444444444444,
              "#bd3786"
             ],
             [
              0.5555555555555556,
              "#d8576b"
             ],
             [
              0.6666666666666666,
              "#ed7953"
             ],
             [
              0.7777777777777778,
              "#fb9f3a"
             ],
             [
              0.8888888888888888,
              "#fdca26"
             ],
             [
              1,
              "#f0f921"
             ]
            ],
            "type": "surface"
           }
          ],
          "table": [
           {
            "cells": {
             "fill": {
              "color": "#EBF0F8"
             },
             "line": {
              "color": "white"
             }
            },
            "header": {
             "fill": {
              "color": "#C8D4E3"
             },
             "line": {
              "color": "white"
             }
            },
            "type": "table"
           }
          ]
         },
         "layout": {
          "annotationdefaults": {
           "arrowcolor": "#2a3f5f",
           "arrowhead": 0,
           "arrowwidth": 1
          },
          "autotypenumbers": "strict",
          "coloraxis": {
           "colorbar": {
            "outlinewidth": 0,
            "ticks": ""
           }
          },
          "colorscale": {
           "diverging": [
            [
             0,
             "#8e0152"
            ],
            [
             0.1,
             "#c51b7d"
            ],
            [
             0.2,
             "#de77ae"
            ],
            [
             0.3,
             "#f1b6da"
            ],
            [
             0.4,
             "#fde0ef"
            ],
            [
             0.5,
             "#f7f7f7"
            ],
            [
             0.6,
             "#e6f5d0"
            ],
            [
             0.7,
             "#b8e186"
            ],
            [
             0.8,
             "#7fbc41"
            ],
            [
             0.9,
             "#4d9221"
            ],
            [
             1,
             "#276419"
            ]
           ],
           "sequential": [
            [
             0,
             "#0d0887"
            ],
            [
             0.1111111111111111,
             "#46039f"
            ],
            [
             0.2222222222222222,
             "#7201a8"
            ],
            [
             0.3333333333333333,
             "#9c179e"
            ],
            [
             0.4444444444444444,
             "#bd3786"
            ],
            [
             0.5555555555555556,
             "#d8576b"
            ],
            [
             0.6666666666666666,
             "#ed7953"
            ],
            [
             0.7777777777777778,
             "#fb9f3a"
            ],
            [
             0.8888888888888888,
             "#fdca26"
            ],
            [
             1,
             "#f0f921"
            ]
           ],
           "sequentialminus": [
            [
             0,
             "#0d0887"
            ],
            [
             0.1111111111111111,
             "#46039f"
            ],
            [
             0.2222222222222222,
             "#7201a8"
            ],
            [
             0.3333333333333333,
             "#9c179e"
            ],
            [
             0.4444444444444444,
             "#bd3786"
            ],
            [
             0.5555555555555556,
             "#d8576b"
            ],
            [
             0.6666666666666666,
             "#ed7953"
            ],
            [
             0.7777777777777778,
             "#fb9f3a"
            ],
            [
             0.8888888888888888,
             "#fdca26"
            ],
            [
             1,
             "#f0f921"
            ]
           ]
          },
          "colorway": [
           "#636efa",
           "#EF553B",
           "#00cc96",
           "#ab63fa",
           "#FFA15A",
           "#19d3f3",
           "#FF6692",
           "#B6E880",
           "#FF97FF",
           "#FECB52"
          ],
          "font": {
           "color": "#2a3f5f"
          },
          "geo": {
           "bgcolor": "white",
           "lakecolor": "white",
           "landcolor": "#E5ECF6",
           "showlakes": true,
           "showland": true,
           "subunitcolor": "white"
          },
          "hoverlabel": {
           "align": "left"
          },
          "hovermode": "closest",
          "mapbox": {
           "style": "light"
          },
          "paper_bgcolor": "white",
          "plot_bgcolor": "#E5ECF6",
          "polar": {
           "angularaxis": {
            "gridcolor": "white",
            "linecolor": "white",
            "ticks": ""
           },
           "bgcolor": "#E5ECF6",
           "radialaxis": {
            "gridcolor": "white",
            "linecolor": "white",
            "ticks": ""
           }
          },
          "scene": {
           "xaxis": {
            "backgroundcolor": "#E5ECF6",
            "gridcolor": "white",
            "gridwidth": 2,
            "linecolor": "white",
            "showbackground": true,
            "ticks": "",
            "zerolinecolor": "white"
           },
           "yaxis": {
            "backgroundcolor": "#E5ECF6",
            "gridcolor": "white",
            "gridwidth": 2,
            "linecolor": "white",
            "showbackground": true,
            "ticks": "",
            "zerolinecolor": "white"
           },
           "zaxis": {
            "backgroundcolor": "#E5ECF6",
            "gridcolor": "white",
            "gridwidth": 2,
            "linecolor": "white",
            "showbackground": true,
            "ticks": "",
            "zerolinecolor": "white"
           }
          },
          "shapedefaults": {
           "line": {
            "color": "#2a3f5f"
           }
          },
          "ternary": {
           "aaxis": {
            "gridcolor": "white",
            "linecolor": "white",
            "ticks": ""
           },
           "baxis": {
            "gridcolor": "white",
            "linecolor": "white",
            "ticks": ""
           },
           "bgcolor": "#E5ECF6",
           "caxis": {
            "gridcolor": "white",
            "linecolor": "white",
            "ticks": ""
           }
          },
          "title": {
           "x": 0.05
          },
          "xaxis": {
           "automargin": true,
           "gridcolor": "white",
           "linecolor": "white",
           "ticks": "",
           "title": {
            "standoff": 15
           },
           "zerolinecolor": "white",
           "zerolinewidth": 2
          },
          "yaxis": {
           "automargin": true,
           "gridcolor": "white",
           "linecolor": "white",
           "ticks": "",
           "title": {
            "standoff": 15
           },
           "zerolinecolor": "white",
           "zerolinewidth": 2
          }
         }
        },
        "title": {
         "text": "Training Rewards Comparison"
        },
        "xaxis": {
         "anchor": "y",
         "domain": [
          0,
          1
         ],
         "title": {
          "text": "Global Timestep"
         }
        },
        "yaxis": {
         "anchor": "x",
         "domain": [
          0,
          1
         ],
         "title": {
          "text": "Reward"
         }
        }
       }
      }
     },
     "metadata": {},
     "output_type": "display_data"
    }
   ],
   "source": [
    "plot_history_plotly(algorithms)"
   ]
  },
  {
   "cell_type": "code",
   "execution_count": 24,
   "metadata": {},
   "outputs": [
    {
     "data": {
      "image/png": "[encoded data removed]",
      "text/plain": [
       "<Figure size 1200x800 with 1 Axes>"
      ]
     },
     "metadata": {},
     "output_type": "display_data"
    }
   ],
   "source": [
    "algorithms = [\"ppo\", \"sparse_autoencoder\", \"sparse_autoencoder_temporal_spatial\"]\n",
    "plot_history(algorithms)"
   ]
  },
  {
   "cell_type": "code",
   "execution_count": 25,
   "metadata": {},
   "outputs": [
    {
     "data": {
      "application/vnd.plotly.v1+json": {
       "config": {
        "plotlyServerURL": "https://plot.ly"
       },
       "data": [
        {
         "hovertemplate": "Algorithm=PPO<br>Global Timestep=%{x}<br>Reward=%{y}<extra></extra>",
         "legendgroup": "PPO",
         "line": {
          "color": "#636efa",
          "dash": "solid"
         },
         "marker": {
          "symbol": "circle"
         },
         "mode": "lines",
         "name": "PPO",
         "orientation": "v",
         "showlegend": true,
         "type": "scatter",
         "x": [
          50,
          100,
          150,
          200,
          250,
          300,
          350,
          400,
          450,
          500,
          550,
          600,
          650,
          700,
          750,
          800,
          850,
          900,
          950,
          1000,
          1050,
          1100,
          1150,
          1200,
          1250,
          1300,
          1350,
          1400,
          1450,
          1500,
          1550,
          1600,
          1650,
          1700,
          1750,
          1800,
          1850,
          1900,
          1950,
          2000,
          2050,
          2100,
          2150,
          2200,
          2250,
          2300,
          2350,
          2400,
          2450,
          2500,
          2550,
          2600,
          2650,
          2700,
          2750,
          2800,
          2850,
          2900,
          2950,
          3000,
          3050,
          3100,
          3150,
          3200,
          3250,
          3300,
          3350,
          3400,
          3450,
          3500,
          3550,
          3600,
          3650,
          3700,
          3750,
          3800,
          3850,
          3900,
          3950,
          4000,
          4050,
          4100,
          4150,
          4200,
          4250,
          4300,
          4350,
          4400,
          4450,
          4500,
          4550,
          4600,
          4650,
          4700,
          4750,
          4800,
          4850,
          4900,
          4950,
          5000,
          5050,
          5100,
          5150,
          5200,
          5250,
          5300,
          5350,
          5400,
          5450,
          5500,
          5550,
          5600,
          5650,
          5700,
          5750,
          5800,
          5850,
          5900,
          5950,
          6000,
          6050,
          6100,
          6150,
          6200,
          6250,
          6300,
          6350,
          6400,
          6450,
          6500,
          6550,
          6600,
          6650,
          6700,
          6750,
          6800,
          6850,
          6900,
          6950,
          7000,
          7050,
          7100,
          7150,
          7200,
          7250,
          7300,
          7350,
          7400,
          7450,
          7500,
          7550,
          7600,
          7650,
          7700,
          7750,
          7800,
          7850,
          7900,
          7950,
          8000,
          8050,
          8100,
          8150,
          8200,
          8250,
          8300,
          8350,
          8400,
          8450,
          8500,
          8550,
          8600,
          8650,
          8700,
          8750,
          8800,
          8850,
          8900,
          8950,
          9000,
          9050,
          9100,
          9150,
          9200,
          9250,
          9300,
          9350,
          9400,
          9450,
          9500,
          9550,
          9600,
          9650,
          9700,
          9750,
          9800,
          9850,
          9900,
          9950,
          10000,
          10050,
          10100,
          10150,
          10200,
          10250,
          10300,
          10350,
          10400,
          10450,
          10500,
          10550,
          10600,
          10650,
          10700,
          10750,
          10800,
          10850,
          10900,
          10950,
          11000,
          11050,
          11100,
          11150,
          11200,
          11250,
          11300,
          11350,
          11400,
          11450,
          11500,
          11550,
          11600,
          11650,
          11700,
          11750,
          11800,
          11850,
          11900,
          11950,
          12000,
          12050,
          12100,
          12150,
          12200,
          12250,
          12300,
          12350,
          12400,
          12450,
          12500,
          12550,
          12600,
          12650,
          12700,
          12750,
          12800,
          12850,
          12900,
          12950,
          13000,
          13050,
          13100,
          13150,
          13200,
          13250,
          13300,
          13350,
          13400,
          13450,
          13500,
          13550,
          13600,
          13650,
          13700,
          13750,
          13800,
          13850,
          13900,
          13950,
          14000,
          14050,
          14100,
          14150,
          14200,
          14250,
          14300,
          14350,
          14400,
          14450,
          14500,
          14550,
          14600,
          14650,
          14700,
          14750,
          14800,
          14850,
          14900,
          14950,
          15000,
          15050,
          15100,
          15150,
          15200,
          15250,
          15300,
          15350,
          15400,
          15450,
          15500,
          15550,
          15600,
          15650,
          15700,
          15750,
          15800,
          15850,
          15900,
          15950,
          16000,
          16050,
          16100,
          16150,
          16200,
          16250,
          16300,
          16350,
          16400,
          16450,
          16500,
          16550,
          16600,
          16650,
          16700,
          16750,
          16800,
          16850,
          16900,
          16950,
          17000,
          17050,
          17100,
          17150,
          17200,
          17250,
          17300,
          17350,
          17400,
          17450,
          17500,
          17550,
          17600,
          17650,
          17700,
          17750,
          17800,
          17850,
          17900,
          17950,
          18000,
          18050,
          18100,
          18150,
          18200,
          18250,
          18300,
          18350,
          18400,
          18450,
          18500,
          18550,
          18600,
          18650,
          18700,
          18750,
          18800,
          18850,
          18900,
          18950,
          19000,
          19050,
          19100,
          19150,
          19200,
          19250,
          19300,
          19350,
          19400,
          19450,
          19500,
          19550,
          19600,
          19650,
          19700,
          19750,
          19800,
          19850,
          19900,
          19950,
          20000,
          20050,
          20100,
          20150,
          20200,
          20250,
          20300,
          20350,
          20400,
          20450,
          20500,
          20550,
          20600,
          20650,
          20700,
          20750,
          20800,
          20850,
          20900,
          20950,
          21000,
          21050,
          21100,
          21150,
          21200,
          21250,
          21300,
          21350,
          21400,
          21450,
          21500,
          21550,
          21600,
          21650,
          21700,
          21750,
          21800,
          21850,
          21900,
          21950,
          22000,
          22050,
          22100,
          22150,
          22200,
          22250,
          22300,
          22350,
          22400,
          22450,
          22500,
          22550,
          22600,
          22650,
          22700,
          22750,
          22800,
          22850,
          22900,
          22950,
          23000,
          23050,
          23100,
          23150,
          23200,
          23250,
          23300,
          23350,
          23400,
          23450,
          23500,
          23550,
          23600,
          23650,
          23700,
          23750,
          23800,
          23850,
          23900,
          23950,
          24000,
          24050,
          24100,
          24150,
          24200,
          24250,
          24300,
          24350,
          24400,
          24450,
          24500,
          24550,
          24600,
          24650,
          24700,
          24750,
          24800,
          24850,
          24900,
          24950,
          25000,
          25050,
          25100,
          25150,
          25200,
          25250,
          25300,
          25350,
          25400,
          25450,
          25500,
          25550,
          25600,
          25650,
          25700,
          25750,
          25800,
          25850,
          25900,
          25950,
          26000,
          26050,
          26100,
          26150,
          26200,
          26250,
          26300,
          26350,
          26400,
          26450,
          26500,
          26550,
          26600,
          26650,
          26700,
          26750,
          26800,
          26850,
          26900,
          26950,
          27000,
          27050,
          27100,
          27150,
          27200,
          27250,
          27300,
          27350,
          27400,
          27450,
          27500,
          27550,
          27600,
          27650,
          27700,
          27750,
          27800,
          27850,
          27900,
          27950,
          28000,
          28050,
          28100,
          28150,
          28200,
          28250,
          28300,
          28350,
          28400,
          28450,
          28500,
          28550,
          28600,
          28650,
          28700,
          28750,
          28800,
          28850,
          28900,
          28950,
          29000,
          29050,
          29100,
          29150,
          29200,
          29250,
          29300,
          29350,
          29400,
          29450,
          29500,
          29550,
          29600,
          29650,
          29700,
          29750,
          29800,
          29850,
          29900,
          29950
         ],
         "xaxis": "x",
         "y": [
          -7,
          -7.45,
          -7.45,
          -7.533333333333334,
          -6.625,
          -6.2,
          -6.2,
          -6.816666666666666,
          -7.142857142857142,
          -7.142857142857142,
          -6.666666666666668,
          -6.666666666666668,
          -6.82,
          -6.590909090909091,
          -6.541666666666668,
          -6.541666666666668,
          -6.792307692307693,
          -6.692857142857143,
          -6.692857142857143,
          -6.6800000000000015,
          -6.6,
          -6.6,
          -6.864705882352941,
          -6.794444444444442,
          -6.594736842105262,
          -6.624999999999997,
          -6.609523809523809,
          -6.531818181818181,
          -6.531818181818181,
          -6.643478260869564,
          -6.541666666666668,
          -6.541666666666668,
          -6.636,
          -6.6692307692307695,
          -6.6692307692307695,
          -6.553571428571429,
          -6.503448275862071,
          -6.49,
          -6.422580645161292,
          -6.334375,
          -6.334375,
          -6.372727272727272,
          -6.3352941176470585,
          -6.3114285714285705,
          -6.3,
          -6.2648648648648635,
          -6.292105263157895,
          -6.24871794871795,
          -6.25,
          -6.25,
          -6.2317073170731705,
          -6.273809523809524,
          -6.2697674418604645,
          -6.2697674418604645,
          -6.2697674418604645,
          -6.372727272727274,
          -6.44,
          -6.44,
          -6.432608695652175,
          -6.414893617021277,
          -6.445833333333333,
          -6.393877551020408,
          -6.393877551020408,
          -6.411999999999999,
          -6.427450980392157,
          -6.396153846153847,
          -6.367924528301886,
          -6.367924528301886,
          -6.429629629629629,
          -6.409090909090907,
          -6.4125000000000005,
          -6.394736842105262,
          -6.394736842105262,
          -6.413793103448277,
          -6.413793103448277,
          -6.477966101694915,
          -6.47,
          -6.4327868852459025,
          -6.404838709677419,
          -6.4015873015873,
          -6.3578125,
          -6.346153846153847,
          -6.267164179104477,
          -6.267164179104477,
          -6.285294117647059,
          -6.291304347826086,
          -6.26,
          -6.2661971830985905,
          -6.2250000000000005,
          -6.217808219178082,
          -6.204054054054056,
          -6.204054054054056,
          -6.230666666666667,
          -6.203947368421053,
          -6.2038961038961045,
          -6.2038961038961045,
          -6.258974358974358,
          -6.251898734177215,
          -6.22625,
          -6.209876543209878,
          -6.199999999999998,
          -6.195180722891567,
          -6.166666666666665,
          -6.142352941176469,
          -6.112790697674417,
          -6.116091954022987,
          -6.103409090909091,
          -6.103370786516853,
          -6.111111111111112,
          -6.079120879120881,
          -6.05,
          -6.058064516129033,
          -6.0340425531914885,
          -6.0221052631578935,
          -5.996875,
          -6.006185567010308,
          -5.955555555555557,
          -5.9479999999999995,
          -5.9079999999999995,
          -5.875000000000001,
          -5.864000000000001,
          -5.8560000000000025,
          -5.7829999999999995,
          -5.7829999999999995,
          -5.779000000000001,
          -5.7600000000000025,
          -5.7730000000000015,
          -5.732,
          -5.715000000000002,
          -5.655,
          -5.655,
          -5.634999999999999,
          -5.6160000000000005,
          -5.517,
          -5.524000000000001,
          -5.493000000000002,
          -5.477,
          -5.4110000000000005,
          -5.4270000000000005,
          -5.374999999999999,
          -5.338999999999999,
          -5.300999999999998,
          -5.288999999999999,
          -5.257999999999999,
          -5.2719999999999985,
          -5.2410000000000005,
          -5.224,
          -5.215,
          -5.1979999999999995,
          -5.2010000000000005,
          -5.155000000000001,
          -5.127000000000002,
          -5.061,
          -5.042000000000002,
          -4.973,
          -4.884,
          -4.860999999999999,
          -4.8199999999999985,
          -4.824000000000002,
          -4.754999999999999,
          -4.741999999999999,
          -4.666,
          -4.647,
          -4.585000000000001,
          -4.474,
          -4.4510000000000005,
          -4.44,
          -4.4060000000000015,
          -4.402,
          -4.391,
          -4.384,
          -4.3420000000000005,
          -4.308,
          -4.274,
          -4.246,
          -4.222,
          -4.17,
          -4.163,
          -4.058,
          -4.0459999999999985,
          -4.008,
          -3.986,
          -3.9780000000000006,
          -3.975000000000001,
          -3.956,
          -3.903,
          -3.864,
          -3.813,
          -3.803,
          -3.784,
          -3.749,
          -3.742,
          -3.726,
          -3.71,
          -3.667,
          -3.6489999999999987,
          -3.573,
          -3.551,
          -3.518,
          -3.509,
          -3.472,
          -3.4599999999999995,
          -3.451,
          -3.446,
          -3.418,
          -3.404,
          -3.38,
          -3.361,
          -3.363,
          -3.3640000000000003,
          -3.3489999999999998,
          -3.3250000000000006,
          -3.302,
          -3.275,
          -3.2509999999999994,
          -3.2350000000000008,
          -3.2120000000000006,
          -3.19,
          -3.1660000000000004,
          -3.1599999999999997,
          -3.128,
          -3.1060000000000003,
          -3.0860000000000003,
          -3.0779999999999994,
          -3.077,
          -3.0720000000000005,
          -3.0559999999999987,
          -3.0399999999999987,
          -3.0209999999999995,
          -2.996,
          -2.9760000000000004,
          -2.9509999999999987,
          -2.932999999999999,
          -2.9289999999999994,
          -2.909,
          -2.878,
          -2.8720000000000003,
          -2.857,
          -2.829,
          -2.8120000000000003,
          -2.7920000000000003,
          -2.785,
          -2.774,
          -2.764,
          -2.7449999999999988,
          -2.728,
          -2.7110000000000003,
          -2.7039999999999997,
          -2.6989999999999994,
          -2.692,
          -2.69,
          -2.681,
          -2.669,
          -2.658000000000001,
          -2.656,
          -2.639,
          -2.616999999999999,
          -2.6,
          -2.585,
          -2.5690000000000004,
          -2.5460000000000003,
          -2.532,
          -2.5269999999999997,
          -2.523,
          -2.509,
          -2.502,
          -2.499,
          -2.494,
          -2.486,
          -2.483,
          -2.4770000000000003,
          -2.477,
          -2.459,
          -2.4530000000000003,
          -2.447,
          -2.439,
          -2.43,
          -2.4330000000000003,
          -2.4330000000000003,
          -2.427,
          -2.423,
          -2.4159999999999995,
          -2.414,
          -2.399,
          -2.395,
          -2.387,
          -2.391,
          -2.391,
          -2.381,
          -2.379,
          -2.375,
          -2.374,
          -2.3759999999999994,
          -2.371,
          -2.359,
          -2.355,
          -2.3550000000000004,
          -2.349,
          -2.347,
          -2.343,
          -2.3349999999999995,
          -2.332,
          -2.3320000000000003,
          -2.331,
          -2.3350000000000004,
          -2.3350000000000004,
          -2.3310000000000004,
          -2.336,
          -2.333,
          -2.3280000000000003,
          -2.318,
          -2.3119999999999994,
          -2.3089999999999997,
          -2.302,
          -2.3020000000000005,
          -2.298,
          -2.2969999999999997,
          -2.2920000000000003,
          -2.29,
          -2.2880000000000003,
          -2.2880000000000003,
          -2.285,
          -2.28,
          -2.27,
          -2.271,
          -2.271,
          -2.272,
          -2.2680000000000002,
          -2.266,
          -2.2669999999999995,
          -2.264,
          -2.261,
          -2.257,
          -2.257,
          -2.251,
          -2.252,
          -2.254,
          -2.248,
          -2.246,
          -2.2469999999999994,
          -2.248,
          -2.246,
          -2.24,
          -2.239,
          -2.237,
          -2.2430000000000003,
          -2.24,
          -2.2389999999999994,
          -2.237,
          -2.231,
          -2.226,
          -2.219,
          -2.219,
          -2.216,
          -2.214,
          -2.211,
          -2.21,
          -2.206,
          -2.2,
          -2.196,
          -2.188,
          -2.1820000000000004,
          -2.181,
          -2.1790000000000003,
          -2.17,
          -2.1660000000000004,
          -2.167,
          -2.167,
          -2.165,
          -2.162,
          -2.157,
          -2.155,
          -2.152,
          -2.152,
          -2.148,
          -2.145,
          -2.144,
          -2.1420000000000003,
          -2.14,
          -2.131,
          -2.1300000000000003,
          -2.123,
          -2.117,
          -2.112,
          -2.1090000000000004,
          -2.104,
          -2.103,
          -2.093,
          -2.088,
          -2.0850000000000004,
          -2.084,
          -2.083,
          -2.081,
          -2.08,
          -2.0780000000000003,
          -2.075,
          -2.074,
          -2.072,
          -2.072,
          -2.074,
          -2.072,
          -2.07,
          -2.072,
          -2.075,
          -2.0729999999999995,
          -2.076,
          -2.077,
          -2.076,
          -2.073,
          -2.07,
          -2.07,
          -2.072,
          -2.071,
          -2.0740000000000003,
          -2.074,
          -2.072,
          -2.0709999999999997,
          -2.072,
          -2.074,
          -2.074,
          -2.076,
          -2.0780000000000003,
          -2.077,
          -2.0780000000000003,
          -2.0780000000000003,
          -2.083,
          -2.0850000000000004,
          -2.083,
          -2.086,
          -2.0840000000000005,
          -2.0850000000000004,
          -2.084,
          -2.0849999999999995,
          -2.088,
          -2.087,
          -2.0890000000000004,
          -2.0909999999999997,
          -2.092,
          -2.096,
          -2.097,
          -2.097,
          -2.099,
          -2.096,
          -2.097,
          -2.097,
          -2.095,
          -2.092,
          -2.088,
          -2.09,
          -2.0889999999999995,
          -2.085,
          -2.085,
          -2.082,
          -2.08,
          -2.082,
          -2.079,
          -2.079,
          -2.08,
          -2.0780000000000003,
          -2.074,
          -2.075,
          -2.072,
          -2.072,
          -2.069,
          -2.073,
          -2.074,
          -2.076,
          -2.073,
          -2.073,
          -2.071,
          -2.07,
          -2.074,
          -2.074,
          -2.074,
          -2.074,
          -2.075,
          -2.075,
          -2.07,
          -2.0669999999999997,
          -2.0650000000000004,
          -2.0620000000000003,
          -2.059,
          -2.057,
          -2.0610000000000004,
          -2.0600000000000005,
          -2.0609999999999995,
          -2.062,
          -2.062,
          -2.0620000000000003,
          -2.063,
          -2.0609999999999995,
          -2.061,
          -2.066,
          -2.066,
          -2.0620000000000003,
          -2.0610000000000004,
          -2.06,
          -2.0580000000000003,
          -2.0570000000000004,
          -2.06,
          -2.0580000000000003,
          -2.059,
          -2.061,
          -2.0580000000000003,
          -2.059,
          -2.053,
          -2.051,
          -2.049,
          -2.05,
          -2.051,
          -2.052,
          -2.0540000000000003,
          -2.0540000000000003,
          -2.05,
          -2.048,
          -2.0420000000000003,
          -2.039,
          -2.039,
          -2.04,
          -2.0380000000000003,
          -2.039,
          -2.039,
          -2.04,
          -2.039,
          -2.0370000000000004,
          -2.036,
          -2.033,
          -2.031,
          -2.032,
          -2.033,
          -2.03,
          -2.029,
          -2.028,
          -2.029,
          -2.03,
          -2.033,
          -2.031,
          -2.031,
          -2.032,
          -2.032,
          -2.03,
          -2.028,
          -2.0250000000000004,
          -2.025,
          -2.0240000000000005,
          -2.0240000000000005,
          -2.0269999999999997,
          -2.027,
          -2.026,
          -2.023,
          -2.0200000000000005,
          -2.016,
          -2.012,
          -2.012,
          -2.013,
          -2.013,
          -2.012,
          -2.012,
          -2.0080000000000005,
          -2.006,
          -2.004,
          -2.002,
          -2.002,
          -2.0009999999999994,
          -1.999,
          -1.999,
          -1.997,
          -1.997,
          -1.997,
          -1.997,
          -1.996,
          -1.994,
          -1.993,
          -1.991,
          -1.99,
          -1.9869999999999999,
          -1.986,
          -1.986,
          -1.982,
          -1.981,
          -1.982,
          -1.982,
          -1.981,
          -1.982,
          -1.983,
          -1.984,
          -1.983,
          -1.983,
          -1.984,
          -1.984,
          -1.986,
          -1.9869999999999999,
          -1.986,
          -1.9850000000000003,
          -1.983,
          -1.983,
          -1.985,
          -1.984,
          -1.9869999999999999
         ],
         "yaxis": "y"
        },
        {
         "hovertemplate": "Algorithm=SPARSE_AUTOENCODER<br>Global Timestep=%{x}<br>Reward=%{y}<extra></extra>",
         "legendgroup": "SPARSE_AUTOENCODER",
         "line": {
          "color": "#EF553B",
          "dash": "solid"
         },
         "marker": {
          "symbol": "circle"
         },
         "mode": "lines",
         "name": "SPARSE_AUTOENCODER",
         "orientation": "v",
         "showlegend": true,
         "type": "scatter",
         "x": [
          2048,
          4096,
          6144,
          8192,
          10240,
          12288,
          14336,
          16384,
          18432,
          20480,
          22528,
          24576,
          26624,
          28672,
          30720,
          32768,
          34816,
          36864,
          38912,
          40960,
          43008,
          45056,
          47104,
          49152,
          51200
         ],
         "xaxis": "x",
         "y": [
          -6.087878787878788,
          -5.453333333333334,
          -4.391,
          -3.642,
          -3.11,
          -2.7821917808219183,
          -2.6,
          -2.526,
          -2.384,
          -2.261,
          -2.256,
          -2.173,
          -2.1530000000000005,
          -2.07,
          -2.0860000000000003,
          -2.071,
          -2.05,
          -2.041,
          -2.003,
          -1.999,
          -2.013,
          -1.983,
          -1.985,
          -1.9969999999999999,
          -1.985
         ],
         "yaxis": "y"
        },
        {
         "hovertemplate": "Algorithm=SPARSE_AUTOENCODER_TEMPORAL_SPATIAL<br>Global Timestep=%{x}<br>Reward=%{y}<extra></extra>",
         "legendgroup": "SPARSE_AUTOENCODER_TEMPORAL_SPATIAL",
         "line": {
          "color": "#00cc96",
          "dash": "solid"
         },
         "marker": {
          "symbol": "circle"
         },
         "mode": "lines",
         "name": "SPARSE_AUTOENCODER_TEMPORAL_SPATIAL",
         "orientation": "v",
         "showlegend": true,
         "type": "scatter",
         "x": [
          2048,
          4096,
          6144,
          8192,
          10240,
          12288,
          14336,
          16384,
          18432,
          20480,
          22528,
          24576,
          26624,
          28672,
          30720,
          32768,
          34816,
          36864,
          38912,
          40960
         ],
         "xaxis": "x",
         "y": [
          -5.9147058823529415,
          -5.454666666666666,
          -4.513,
          -3.538,
          -3.142,
          -2.9019999999999992,
          -2.695,
          -2.612,
          -2.485,
          -2.507,
          -2.352,
          -2.2510000000000003,
          -2.1830000000000003,
          -2.11,
          -2.093,
          -2.075,
          -2.059,
          -2.025,
          -2.0069999999999997,
          -2.02
         ],
         "yaxis": "y"
        }
       ],
       "layout": {
        "legend": {
         "title": {
          "text": "Algorithm"
         },
         "tracegroupgap": 0
        },
        "template": {
         "data": {
          "bar": [
           {
            "error_x": {
             "color": "#2a3f5f"
            },
            "error_y": {
             "color": "#2a3f5f"
            },
            "marker": {
             "line": {
              "color": "#E5ECF6",
              "width": 0.5
             },
             "pattern": {
              "fillmode": "overlay",
              "size": 10,
              "solidity": 0.2
             }
            },
            "type": "bar"
           }
          ],
          "barpolar": [
           {
            "marker": {
             "line": {
              "color": "#E5ECF6",
              "width": 0.5
             },
             "pattern": {
              "fillmode": "overlay",
              "size": 10,
              "solidity": 0.2
             }
            },
            "type": "barpolar"
           }
          ],
          "carpet": [
           {
            "aaxis": {
             "endlinecolor": "#2a3f5f",
             "gridcolor": "white",
             "linecolor": "white",
             "minorgridcolor": "white",
             "startlinecolor": "#2a3f5f"
            },
            "baxis": {
             "endlinecolor": "#2a3f5f",
             "gridcolor": "white",
             "linecolor": "white",
             "minorgridcolor": "white",
             "startlinecolor": "#2a3f5f"
            },
            "type": "carpet"
           }
          ],
          "choropleth": [
           {
            "colorbar": {
             "outlinewidth": 0,
             "ticks": ""
            },
            "type": "choropleth"
           }
          ],
          "contour": [
           {
            "colorbar": {
             "outlinewidth": 0,
             "ticks": ""
            },
            "colorscale": [
             [
              0,
              "#0d0887"
             ],
             [
              0.1111111111111111,
              "#46039f"
             ],
             [
              0.2222222222222222,
              "#7201a8"
             ],
             [
              0.3333333333333333,
              "#9c179e"
             ],
             [
              0.4444444444444444,
              "#bd3786"
             ],
             [
              0.5555555555555556,
              "#d8576b"
             ],
             [
              0.6666666666666666,
              "#ed7953"
             ],
             [
              0.7777777777777778,
              "#fb9f3a"
             ],
             [
              0.8888888888888888,
              "#fdca26"
             ],
             [
              1,
              "#f0f921"
             ]
            ],
            "type": "contour"
           }
          ],
          "contourcarpet": [
           {
            "colorbar": {
             "outlinewidth": 0,
             "ticks": ""
            },
            "type": "contourcarpet"
           }
          ],
          "heatmap": [
           {
            "colorbar": {
             "outlinewidth": 0,
             "ticks": ""
            },
            "colorscale": [
             [
              0,
              "#0d0887"
             ],
             [
              0.1111111111111111,
              "#46039f"
             ],
             [
              0.2222222222222222,
              "#7201a8"
             ],
             [
              0.3333333333333333,
              "#9c179e"
             ],
             [
              0.4444444444444444,
              "#bd3786"
             ],
             [
              0.5555555555555556,
              "#d8576b"
             ],
             [
              0.6666666666666666,
              "#ed7953"
             ],
             [
              0.7777777777777778,
              "#fb9f3a"
             ],
             [
              0.8888888888888888,
              "#fdca26"
             ],
             [
              1,
              "#f0f921"
             ]
            ],
            "type": "heatmap"
           }
          ],
          "heatmapgl": [
           {
            "colorbar": {
             "outlinewidth": 0,
             "ticks": ""
            },
            "colorscale": [
             [
              0,
              "#0d0887"
             ],
             [
              0.1111111111111111,
              "#46039f"
             ],
             [
              0.2222222222222222,
              "#7201a8"
             ],
             [
              0.3333333333333333,
              "#9c179e"
             ],
             [
              0.4444444444444444,
              "#bd3786"
             ],
             [
              0.5555555555555556,
              "#d8576b"
             ],
             [
              0.6666666666666666,
              "#ed7953"
             ],
             [
              0.7777777777777778,
              "#fb9f3a"
             ],
             [
              0.8888888888888888,
              "#fdca26"
             ],
             [
              1,
              "#f0f921"
             ]
            ],
            "type": "heatmapgl"
           }
          ],
          "histogram": [
           {
            "marker": {
             "pattern": {
              "fillmode": "overlay",
              "size": 10,
              "solidity": 0.2
             }
            },
            "type": "histogram"
           }
          ],
          "histogram2d": [
           {
            "colorbar": {
             "outlinewidth": 0,
             "ticks": ""
            },
            "colorscale": [
             [
              0,
              "#0d0887"
             ],
             [
              0.1111111111111111,
              "#46039f"
             ],
             [
              0.2222222222222222,
              "#7201a8"
             ],
             [
              0.3333333333333333,
              "#9c179e"
             ],
             [
              0.4444444444444444,
              "#bd3786"
             ],
             [
              0.5555555555555556,
              "#d8576b"
             ],
             [
              0.6666666666666666,
              "#ed7953"
             ],
             [
              0.7777777777777778,
              "#fb9f3a"
             ],
             [
              0.8888888888888888,
              "#fdca26"
             ],
             [
              1,
              "#f0f921"
             ]
            ],
            "type": "histogram2d"
           }
          ],
          "histogram2dcontour": [
           {
            "colorbar": {
             "outlinewidth": 0,
             "ticks": ""
            },
            "colorscale": [
             [
              0,
              "#0d0887"
             ],
             [
              0.1111111111111111,
              "#46039f"
             ],
             [
              0.2222222222222222,
              "#7201a8"
             ],
             [
              0.3333333333333333,
              "#9c179e"
             ],
             [
              0.4444444444444444,
              "#bd3786"
             ],
             [
              0.5555555555555556,
              "#d8576b"
             ],
             [
              0.6666666666666666,
              "#ed7953"
             ],
             [
              0.7777777777777778,
              "#fb9f3a"
             ],
             [
              0.8888888888888888,
              "#fdca26"
             ],
             [
              1,
              "#f0f921"
             ]
            ],
            "type": "histogram2dcontour"
           }
          ],
          "mesh3d": [
           {
            "colorbar": {
             "outlinewidth": 0,
             "ticks": ""
            },
            "type": "mesh3d"
           }
          ],
          "parcoords": [
           {
            "line": {
             "colorbar": {
              "outlinewidth": 0,
              "ticks": ""
             }
            },
            "type": "parcoords"
           }
          ],
          "pie": [
           {
            "automargin": true,
            "type": "pie"
           }
          ],
          "scatter": [
           {
            "fillpattern": {
             "fillmode": "overlay",
             "size": 10,
             "solidity": 0.2
            },
            "type": "scatter"
           }
          ],
          "scatter3d": [
           {
            "line": {
             "colorbar": {
              "outlinewidth": 0,
              "ticks": ""
             }
            },
            "marker": {
             "colorbar": {
              "outlinewidth": 0,
              "ticks": ""
             }
            },
            "type": "scatter3d"
           }
          ],
          "scattercarpet": [
           {
            "marker": {
             "colorbar": {
              "outlinewidth": 0,
              "ticks": ""
             }
            },
            "type": "scattercarpet"
           }
          ],
          "scattergeo": [
           {
            "marker": {
             "colorbar": {
              "outlinewidth": 0,
              "ticks": ""
             }
            },
            "type": "scattergeo"
           }
          ],
          "scattergl": [
           {
            "marker": {
             "colorbar": {
              "outlinewidth": 0,
              "ticks": ""
             }
            },
            "type": "scattergl"
           }
          ],
          "scattermapbox": [
           {
            "marker": {
             "colorbar": {
              "outlinewidth": 0,
              "ticks": ""
             }
            },
            "type": "scattermapbox"
           }
          ],
          "scatterpolar": [
           {
            "marker": {
             "colorbar": {
              "outlinewidth": 0,
              "ticks": ""
             }
            },
            "type": "scatterpolar"
           }
          ],
          "scatterpolargl": [
           {
            "marker": {
             "colorbar": {
              "outlinewidth": 0,
              "ticks": ""
             }
            },
            "type": "scatterpolargl"
           }
          ],
          "scatterternary": [
           {
            "marker": {
             "colorbar": {
              "outlinewidth": 0,
              "ticks": ""
             }
            },
            "type": "scatterternary"
           }
          ],
          "surface": [
           {
            "colorbar": {
             "outlinewidth": 0,
             "ticks": ""
            },
            "colorscale": [
             [
              0,
              "#0d0887"
             ],
             [
              0.1111111111111111,
              "#46039f"
             ],
             [
              0.2222222222222222,
              "#7201a8"
             ],
             [
              0.3333333333333333,
              "#9c179e"
             ],
             [
              0.4444444444444444,
              "#bd3786"
             ],
             [
              0.5555555555555556,
              "#d8576b"
             ],
             [
              0.6666666666666666,
              "#ed7953"
             ],
             [
              0.7777777777777778,
              "#fb9f3a"
             ],
             [
              0.8888888888888888,
              "#fdca26"
             ],
             [
              1,
              "#f0f921"
             ]
            ],
            "type": "surface"
           }
          ],
          "table": [
           {
            "cells": {
             "fill": {
              "color": "#EBF0F8"
             },
             "line": {
              "color": "white"
             }
            },
            "header": {
             "fill": {
              "color": "#C8D4E3"
             },
             "line": {
              "color": "white"
             }
            },
            "type": "table"
           }
          ]
         },
         "layout": {
          "annotationdefaults": {
           "arrowcolor": "#2a3f5f",
           "arrowhead": 0,
           "arrowwidth": 1
          },
          "autotypenumbers": "strict",
          "coloraxis": {
           "colorbar": {
            "outlinewidth": 0,
            "ticks": ""
           }
          },
          "colorscale": {
           "diverging": [
            [
             0,
             "#8e0152"
            ],
            [
             0.1,
             "#c51b7d"
            ],
            [
             0.2,
             "#de77ae"
            ],
            [
             0.3,
             "#f1b6da"
            ],
            [
             0.4,
             "#fde0ef"
            ],
            [
             0.5,
             "#f7f7f7"
            ],
            [
             0.6,
             "#e6f5d0"
            ],
            [
             0.7,
             "#b8e186"
            ],
            [
             0.8,
             "#7fbc41"
            ],
            [
             0.9,
             "#4d9221"
            ],
            [
             1,
             "#276419"
            ]
           ],
           "sequential": [
            [
             0,
             "#0d0887"
            ],
            [
             0.1111111111111111,
             "#46039f"
            ],
            [
             0.2222222222222222,
             "#7201a8"
            ],
            [
             0.3333333333333333,
             "#9c179e"
            ],
            [
             0.4444444444444444,
             "#bd3786"
            ],
            [
             0.5555555555555556,
             "#d8576b"
            ],
            [
             0.6666666666666666,
             "#ed7953"
            ],
            [
             0.7777777777777778,
             "#fb9f3a"
            ],
            [
             0.8888888888888888,
             "#fdca26"
            ],
            [
             1,
             "#f0f921"
            ]
           ],
           "sequentialminus": [
            [
             0,
             "#0d0887"
            ],
            [
             0.1111111111111111,
             "#46039f"
            ],
            [
             0.2222222222222222,
             "#7201a8"
            ],
            [
             0.3333333333333333,
             "#9c179e"
            ],
            [
             0.4444444444444444,
             "#bd3786"
            ],
            [
             0.5555555555555556,
             "#d8576b"
            ],
            [
             0.6666666666666666,
             "#ed7953"
            ],
            [
             0.7777777777777778,
             "#fb9f3a"
            ],
            [
             0.8888888888888888,
             "#fdca26"
            ],
            [
             1,
             "#f0f921"
            ]
           ]
          },
          "colorway": [
           "#636efa",
           "#EF553B",
           "#00cc96",
           "#ab63fa",
           "#FFA15A",
           "#19d3f3",
           "#FF6692",
           "#B6E880",
           "#FF97FF",
           "#FECB52"
          ],
          "font": {
           "color": "#2a3f5f"
          },
          "geo": {
           "bgcolor": "white",
           "lakecolor": "white",
           "landcolor": "#E5ECF6",
           "showlakes": true,
           "showland": true,
           "subunitcolor": "white"
          },
          "hoverlabel": {
           "align": "left"
          },
          "hovermode": "closest",
          "mapbox": {
           "style": "light"
          },
          "paper_bgcolor": "white",
          "plot_bgcolor": "#E5ECF6",
          "polar": {
           "angularaxis": {
            "gridcolor": "white",
            "linecolor": "white",
            "ticks": ""
           },
           "bgcolor": "#E5ECF6",
           "radialaxis": {
            "gridcolor": "white",
            "linecolor": "white",
            "ticks": ""
           }
          },
          "scene": {
           "xaxis": {
            "backgroundcolor": "#E5ECF6",
            "gridcolor": "white",
            "gridwidth": 2,
            "linecolor": "white",
            "showbackground": true,
            "ticks": "",
            "zerolinecolor": "white"
           },
           "yaxis": {
            "backgroundcolor": "#E5ECF6",
            "gridcolor": "white",
            "gridwidth": 2,
            "linecolor": "white",
            "showbackground": true,
            "ticks": "",
            "zerolinecolor": "white"
           },
           "zaxis": {
            "backgroundcolor": "#E5ECF6",
            "gridcolor": "white",
            "gridwidth": 2,
            "linecolor": "white",
            "showbackground": true,
            "ticks": "",
            "zerolinecolor": "white"
           }
          },
          "shapedefaults": {
           "line": {
            "color": "#2a3f5f"
           }
          },
          "ternary": {
           "aaxis": {
            "gridcolor": "white",
            "linecolor": "white",
            "ticks": ""
           },
           "baxis": {
            "gridcolor": "white",
            "linecolor": "white",
            "ticks": ""
           },
           "bgcolor": "#E5ECF6",
           "caxis": {
            "gridcolor": "white",
            "linecolor": "white",
            "ticks": ""
           }
          },
          "title": {
           "x": 0.05
          },
          "xaxis": {
           "automargin": true,
           "gridcolor": "white",
           "linecolor": "white",
           "ticks": "",
           "title": {
            "standoff": 15
           },
           "zerolinecolor": "white",
           "zerolinewidth": 2
          },
          "yaxis": {
           "automargin": true,
           "gridcolor": "white",
           "linecolor": "white",
           "ticks": "",
           "title": {
            "standoff": 15
           },
           "zerolinecolor": "white",
           "zerolinewidth": 2
          }
         }
        },
        "title": {
         "text": "Training Rewards Comparison"
        },
        "xaxis": {
         "anchor": "y",
         "domain": [
          0,
          1
         ],
         "title": {
          "text": "Global Timestep"
         }
        },
        "yaxis": {
         "anchor": "x",
         "domain": [
          0,
          1
         ],
         "title": {
          "text": "Reward"
         }
        }
       }
      }
     },
     "metadata": {},
     "output_type": "display_data"
    }
   ],
   "source": [
    "plot_history_plotly(algorithms)"
   ]
  }
 ],
 "metadata": {
  "kernelspec": {
   "display_name": "trainloop_py37",
   "language": "python",
   "name": "python3"
  },
  "language_info": {
   "codemirror_mode": {
    "name": "ipython",
    "version": 3
   },
   "file_extension": ".py",
   "mimetype": "text/x-python",
   "name": "python",
   "nbconvert_exporter": "python",
   "pygments_lexer": "ipython3",
   "version": "3.7.16"
  }
 },
 "nbformat": 4,
 "nbformat_minor": 2
}
